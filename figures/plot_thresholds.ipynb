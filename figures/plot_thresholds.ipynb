{
 "cells": [
  {
   "cell_type": "code",
   "execution_count": 1,
   "id": "6a4c53cc",
   "metadata": {},
   "outputs": [],
   "source": [
    "%matplotlib inline\n",
    "\n",
    "import numpy as np\n",
    "import pandas as pd\n",
    "import seaborn as sns\n",
    "import matplotlib.pyplot as plt\n",
    "import matplotlib\n",
    "matplotlib.rcParams['pdf.fonttype'] = 42\n",
    "matplotlib.rcParams['ps.fonttype'] = 42\n",
    "matplotlib.rcParams['font.family'] = \"Arial\""
   ]
  },
  {
   "cell_type": "code",
   "execution_count": 2,
   "id": "9db88fe4",
   "metadata": {},
   "outputs": [],
   "source": [
    "datapath = '../../DataTables/Thresholds.csv'\n",
    "thresholds = pd.read_csv(datapath)"
   ]
  },
  {
   "cell_type": "code",
   "execution_count": 3,
   "id": "9943e655",
   "metadata": {},
   "outputs": [],
   "source": [
    "def mag2db( factor ):\n",
    "    import numpy as np\n",
    "    mag = 20 * np.log10(factor)\n",
    "    return mag"
   ]
  },
  {
   "cell_type": "code",
   "execution_count": 4,
   "id": "2d4ae516",
   "metadata": {},
   "outputs": [],
   "source": [
    "thresholds[['AvgAlldb','AvgLastdb']] = mag2db(thresholds[['AvgAll', 'AvgLast']]) - mag2db(0.5)"
   ]
  },
  {
   "cell_type": "markdown",
   "id": "9c4e1c5f",
   "metadata": {},
   "source": [
    "# Figures"
   ]
  },
  {
   "cell_type": "code",
   "execution_count": 5,
   "id": "b9999321",
   "metadata": {},
   "outputs": [
    {
     "name": "stdout",
     "output_type": "stream",
     "text": [
      "['#4c72b0', '#dd8452', '#55a868', '#c44e52', '#8172b3', '#937860', '#da8bc3', '#8c8c8c', '#ccb974', '#64b5cd']\n"
     ]
    }
   ],
   "source": [
    "print(sns.color_palette(\"deep\").as_hex())"
   ]
  },
  {
   "cell_type": "code",
   "execution_count": 6,
   "id": "23bbcaa1",
   "metadata": {},
   "outputs": [],
   "source": [
    "colorpalette=['#55a868','#8172b3']"
   ]
  },
  {
   "cell_type": "code",
   "execution_count": 7,
   "id": "67394a00",
   "metadata": {},
   "outputs": [
    {
     "name": "stderr",
     "output_type": "stream",
     "text": [
      "/Library/Frameworks/Python.framework/Versions/3.10/lib/python3.10/site-packages/seaborn/categorical.py:1733: UserWarning: You passed a edgecolor/edgecolors ([(0.0, 0.0, 0.0), (0.0, 0.0, 0.0)]) for an unfilled marker ('_').  Matplotlib is ignoring the edgecolor in favor of the facecolor.  This behavior may change in the future.\n",
      "  ax.scatter(x, y,\n",
      "/Library/Frameworks/Python.framework/Versions/3.10/lib/python3.10/site-packages/seaborn/categorical.py:1733: UserWarning: You passed a edgecolor/edgecolors ([(0.0, 0.0, 0.0), (0.0, 0.0, 0.0)]) for an unfilled marker ('_').  Matplotlib is ignoring the edgecolor in favor of the facecolor.  This behavior may change in the future.\n",
      "  ax.scatter(x, y,\n"
     ]
    },
    {
     "data": {
      "image/png": "[encoded data removed]",
      "text/plain": [
       "<Figure size 216x144 with 2 Axes>"
      ]
     },
     "metadata": {
      "needs_background": "light"
     },
     "output_type": "display_data"
    }
   ],
   "source": [
    "f, axs = plt.subplots(1,2,sharey=True)\n",
    "\n",
    "f.set_size_inches(3, 2)\n",
    "\n",
    "axs[0].axhline(y=0, color=\".25\")\n",
    "sns.stripplot(x=\"group\", y=\"AvgAlldb\", data=thresholds, order=[\"SC\",\"EB\"], alpha=.75, ax=axs[0], palette=colorpalette,\n",
    "             edgecolor='white', linewidth=1, size=8.5, zorder=1, marker='o')\n",
    "sns.pointplot(x=\"group\", y=\"AvgAlldb\", data=thresholds, order=[\"SC\",\"EB\"], ci=68, scale=2, markers='_',\n",
    "              errwidth=1, capsize=0.3, color='0', join=False, ax=axs[0])\n",
    "\n",
    "plt.subplot(1,2,1)\n",
    "plt.ylabel('Threshold (dB)', fontsize=10);\n",
    "plt.xlabel('');\n",
    "plt.xticks([0, 1], ['Sighted', 'Early Blind'], rotation=-30)\n",
    "plt.yticks([0, 5, 10], ['0', '5', '10'])\n",
    "plt.title('All Trials')\n",
    "\n",
    "axs[1].axhline(y=0, color=\".25\")\n",
    "sns.stripplot(x=\"group\", y=\"AvgLastdb\", data=thresholds, order=[\"SC\",\"EB\"], alpha=.75, ax=axs[1], palette=colorpalette,\n",
    "             edgecolor='white', linewidth=1, size=8.5, zorder=1, marker='o')\n",
    "sns.pointplot(x=\"group\", y=\"AvgLastdb\", data=thresholds, order=[\"SC\",\"EB\"], ci=68, scale=2, markers='_',\n",
    "              errwidth=1, capsize=0.3, color=\"0\", join=False, ax=axs[1])\n",
    "\n",
    "plt.subplot(1,2,2)\n",
    "plt.ylabel('');\n",
    "plt.xlabel('');\n",
    "plt.xticks([0, 1], ['Sighted', 'Early Blind'], rotation=-30)\n",
    "plt.yticks([0, 5, 10], ['0', '5', '10'])\n",
    "plt.title('Last Session')\n",
    "\n",
    "sns.despine()\n"
   ]
  },
  {
   "cell_type": "code",
   "execution_count": 8,
   "id": "9f5ecfa9",
   "metadata": {},
   "outputs": [
    {
     "name": "stderr",
     "output_type": "stream",
     "text": [
      "/Library/Frameworks/Python.framework/Versions/3.10/lib/python3.10/site-packages/seaborn/categorical.py:1733: UserWarning: You passed a edgecolor/edgecolors ([(0.3, 0.3, 0.3), (0.3, 0.3, 0.3)]) for an unfilled marker ('_').  Matplotlib is ignoring the edgecolor in favor of the facecolor.  This behavior may change in the future.\n",
      "  ax.scatter(x, y,\n",
      "/Library/Frameworks/Python.framework/Versions/3.10/lib/python3.10/site-packages/seaborn/categorical.py:1733: UserWarning: You passed a edgecolor/edgecolors ([(0.3, 0.3, 0.3), (0.3, 0.3, 0.3)]) for an unfilled marker ('_').  Matplotlib is ignoring the edgecolor in favor of the facecolor.  This behavior may change in the future.\n",
      "  ax.scatter(x, y,\n"
     ]
    },
    {
     "data": {
      "image/png": "[encoded data removed]",
      "text/plain": [
       "<Figure size 216x144 with 2 Axes>"
      ]
     },
     "metadata": {
      "needs_background": "light"
     },
     "output_type": "display_data"
    }
   ],
   "source": [
    "f, axs = plt.subplots(1,2,sharey=True)\n",
    "\n",
    "f.set_size_inches(3, 2)\n",
    "\n",
    "axs[0].axhline(y=0, color=\".25\")\n",
    "sns.stripplot(x=\"group\", y=\"AvgAlldb\", data=thresholds, order=[\"EB\",\"SC\"], alpha=.75, ax=axs[0], palette=colorpalette,\n",
    "             edgecolor='white', linewidth=1, size=8.5, marker='o', zorder=1)\n",
    "sns.pointplot(x=\"group\", y=\"AvgAlldb\", data=thresholds, order=[\"EB\",\"SC\"], ci=68, scale=2, markers='_',\n",
    "              errwidth=1, capsize=0.3, color=\"0.3\", join=False, ax=axs[0])\n",
    "\n",
    "plt.subplot(1,2,1)\n",
    "plt.ylabel('Threshold (dB)', fontsize=10);\n",
    "plt.xlabel('');\n",
    "plt.xticks([0, 1], ['EB', 'SC'])\n",
    "plt.yticks([0, 5, 10], ['0', '5', '10'])\n",
    "plt.title('All Trials')\n",
    "\n",
    "axs[1].axhline(y=0, color=\".25\")\n",
    "sns.stripplot(x=\"group\", y=\"AvgLastdb\", data=thresholds, order=[\"EB\",\"SC\"], alpha=.75, ax=axs[1], palette=colorpalette, \n",
    "             edgecolor='white', linewidth=1, zorder=1, size=8.5, marker='o')\n",
    "sns.pointplot(x=\"group\", y=\"AvgLastdb\", data=thresholds, order=[\"EB\",\"SC\"], ci=68, scale=2, markers='_',\n",
    "              errwidth=1, capsize=0.3, color=\"0.3\", join=False, ax=axs[1])\n",
    "\n",
    "plt.subplot(1,2,2)\n",
    "plt.ylabel('');\n",
    "plt.xlabel('');\n",
    "plt.xticks([0, 1], ['EB', 'SC'])\n",
    "plt.yticks([0, 5, 10], ['0', '5', '10'])\n",
    "plt.title('Last Session')\n",
    "\n",
    "sns.despine()\n"
   ]
  },
  {
   "cell_type": "markdown",
   "id": "e0464dfb",
   "metadata": {},
   "source": [
    "# Stats"
   ]
  },
  {
   "cell_type": "code",
   "execution_count": 9,
   "id": "33618270",
   "metadata": {},
   "outputs": [],
   "source": [
    "import pingouin as pg"
   ]
  },
  {
   "cell_type": "code",
   "execution_count": 10,
   "id": "7943f54d",
   "metadata": {},
   "outputs": [
    {
     "data": {
      "text/html": [
       "<div>\n",
       "<style scoped>\n",
       "    .dataframe tbody tr th:only-of-type {\n",
       "        vertical-align: middle;\n",
       "    }\n",
       "\n",
       "    .dataframe tbody tr th {\n",
       "        vertical-align: top;\n",
       "    }\n",
       "\n",
       "    .dataframe thead th {\n",
       "        text-align: right;\n",
       "    }\n",
       "</style>\n",
       "<table border=\"1\" class=\"dataframe\">\n",
       "  <thead>\n",
       "    <tr style=\"text-align: right;\">\n",
       "      <th></th>\n",
       "      <th>T</th>\n",
       "      <th>dof</th>\n",
       "      <th>alternative</th>\n",
       "      <th>p-val</th>\n",
       "      <th>CI95%</th>\n",
       "      <th>cohen-d</th>\n",
       "      <th>BF10</th>\n",
       "      <th>power</th>\n",
       "    </tr>\n",
       "  </thead>\n",
       "  <tbody>\n",
       "    <tr>\n",
       "      <th>T-test</th>\n",
       "      <td>-5.473466</td>\n",
       "      <td>14</td>\n",
       "      <td>two-sided</td>\n",
       "      <td>0.000082</td>\n",
       "      <td>[-5.8, -2.53]</td>\n",
       "      <td>2.736733</td>\n",
       "      <td>223.141</td>\n",
       "      <td>0.999063</td>\n",
       "    </tr>\n",
       "  </tbody>\n",
       "</table>\n",
       "</div>"
      ],
      "text/plain": [
       "               T  dof alternative     p-val          CI95%   cohen-d     BF10  \\\n",
       "T-test -5.473466   14   two-sided  0.000082  [-5.8, -2.53]  2.736733  223.141   \n",
       "\n",
       "           power  \n",
       "T-test  0.999063  "
      ]
     },
     "execution_count": 10,
     "metadata": {},
     "output_type": "execute_result"
    }
   ],
   "source": [
    "x1 = thresholds.loc[thresholds[\"group\"]==\"EB\"][\"AvgAlldb\"]\n",
    "y1 = thresholds.loc[thresholds[\"group\"]==\"SC\"][\"AvgAlldb\"]\n",
    "pg.ttest(x1,y1)"
   ]
  },
  {
   "cell_type": "code",
   "execution_count": 11,
   "id": "78d09e68",
   "metadata": {},
   "outputs": [
    {
     "data": {
      "text/html": [
       "<div>\n",
       "<style scoped>\n",
       "    .dataframe tbody tr th:only-of-type {\n",
       "        vertical-align: middle;\n",
       "    }\n",
       "\n",
       "    .dataframe tbody tr th {\n",
       "        vertical-align: top;\n",
       "    }\n",
       "\n",
       "    .dataframe thead th {\n",
       "        text-align: right;\n",
       "    }\n",
       "</style>\n",
       "<table border=\"1\" class=\"dataframe\">\n",
       "  <thead>\n",
       "    <tr style=\"text-align: right;\">\n",
       "      <th></th>\n",
       "      <th>T</th>\n",
       "      <th>dof</th>\n",
       "      <th>alternative</th>\n",
       "      <th>p-val</th>\n",
       "      <th>CI95%</th>\n",
       "      <th>cohen-d</th>\n",
       "      <th>BF10</th>\n",
       "      <th>power</th>\n",
       "    </tr>\n",
       "  </thead>\n",
       "  <tbody>\n",
       "    <tr>\n",
       "      <th>T-test</th>\n",
       "      <td>-3.706468</td>\n",
       "      <td>14</td>\n",
       "      <td>two-sided</td>\n",
       "      <td>0.002347</td>\n",
       "      <td>[-6.22, -1.66]</td>\n",
       "      <td>1.853234</td>\n",
       "      <td>15.164</td>\n",
       "      <td>0.930877</td>\n",
       "    </tr>\n",
       "  </tbody>\n",
       "</table>\n",
       "</div>"
      ],
      "text/plain": [
       "               T  dof alternative     p-val           CI95%   cohen-d    BF10  \\\n",
       "T-test -3.706468   14   two-sided  0.002347  [-6.22, -1.66]  1.853234  15.164   \n",
       "\n",
       "           power  \n",
       "T-test  0.930877  "
      ]
     },
     "execution_count": 11,
     "metadata": {},
     "output_type": "execute_result"
    }
   ],
   "source": [
    "x2 = thresholds.loc[thresholds[\"group\"]==\"EB\"][\"AvgLastdb\"]\n",
    "y2 = thresholds.loc[thresholds[\"group\"]==\"SC\"][\"AvgLastdb\"]\n",
    "pg.ttest(x2,y2)"
   ]
  }
 ],
 "metadata": {
  "kernelspec": {
   "display_name": "Python 3 (ipykernel)",
   "language": "python",
   "name": "python3"
  },
  "language_info": {
   "codemirror_mode": {
    "name": "ipython",
    "version": 3
   },
   "file_extension": ".py",
   "mimetype": "text/x-python",
   "name": "python",
   "nbconvert_exporter": "python",
   "pygments_lexer": "ipython3",
   "version": "3.10.5"
  }
 },
 "nbformat": 4,
 "nbformat_minor": 5
}
