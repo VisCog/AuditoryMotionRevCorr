{
 "cells": [
  {
   "cell_type": "code",
   "execution_count": 1,
   "id": "6e568409",
   "metadata": {},
   "outputs": [],
   "source": [
    "%matplotlib inline\n",
    "\n",
    "import numpy as np\n",
    "import pandas as pd\n",
    "import seaborn as sns\n",
    "import matplotlib.pyplot as plt\n",
    "import pingouin as pg\n",
    "import matplotlib\n",
    "matplotlib.rcParams['pdf.fonttype'] = 42\n",
    "matplotlib.rcParams['ps.fonttype'] = 42\n",
    "matplotlib.rcParams['font.family'] = \"Arial\""
   ]
  },
  {
   "cell_type": "code",
   "execution_count": 2,
   "id": "6d049a11",
   "metadata": {},
   "outputs": [],
   "source": [
    "datapath = '../../DataTables/STModel.csv'\n",
    "params = pd.read_csv(datapath)"
   ]
  },
  {
   "cell_type": "markdown",
   "id": "a74bf60a",
   "metadata": {},
   "source": [
    "# Figures"
   ]
  },
  {
   "cell_type": "code",
   "execution_count": 3,
   "id": "3919b0e4",
   "metadata": {},
   "outputs": [
    {
     "data": {
      "text/plain": [
       "Index(['sub', 'group', 'amp', 'scenter', 'swidth', 'tcenter', 'twidth',\n",
       "       'xpeak', 'ypeak', 'distance'],\n",
       "      dtype='object')"
      ]
     },
     "execution_count": 3,
     "metadata": {},
     "output_type": "execute_result"
    }
   ],
   "source": [
    "nparams = 5;\n",
    "keys = params.keys()\n",
    "keys"
   ]
  },
  {
   "cell_type": "code",
   "execution_count": 4,
   "id": "c0fe5aad",
   "metadata": {},
   "outputs": [],
   "source": [
    "colorpalette=['#55a868','#8172b3']\n",
    "onset = [15, 0.15]\n",
    "stimonset = [30, 0]"
   ]
  },
  {
   "cell_type": "code",
   "execution_count": 5,
   "id": "74aa3bd2",
   "metadata": {},
   "outputs": [
    {
     "name": "stderr",
     "output_type": "stream",
     "text": [
      "/Library/Frameworks/Python.framework/Versions/3.10/lib/python3.10/site-packages/seaborn/categorical.py:1733: UserWarning: You passed a edgecolor/edgecolors ([(0.0, 0.0, 0.0), (0.0, 0.0, 0.0)]) for an unfilled marker ('_').  Matplotlib is ignoring the edgecolor in favor of the facecolor.  This behavior may change in the future.\n",
      "  ax.scatter(x, y,\n",
      "/Library/Frameworks/Python.framework/Versions/3.10/lib/python3.10/site-packages/seaborn/categorical.py:1733: UserWarning: You passed a edgecolor/edgecolors ([(0.0, 0.0, 0.0), (0.0, 0.0, 0.0)]) for an unfilled marker ('_').  Matplotlib is ignoring the edgecolor in favor of the facecolor.  This behavior may change in the future.\n",
      "  ax.scatter(x, y,\n",
      "/Library/Frameworks/Python.framework/Versions/3.10/lib/python3.10/site-packages/seaborn/categorical.py:1733: UserWarning: You passed a edgecolor/edgecolors ([(0.0, 0.0, 0.0), (0.0, 0.0, 0.0)]) for an unfilled marker ('_').  Matplotlib is ignoring the edgecolor in favor of the facecolor.  This behavior may change in the future.\n",
      "  ax.scatter(x, y,\n",
      "/Library/Frameworks/Python.framework/Versions/3.10/lib/python3.10/site-packages/seaborn/categorical.py:1733: UserWarning: You passed a edgecolor/edgecolors ([(0.0, 0.0, 0.0), (0.0, 0.0, 0.0)]) for an unfilled marker ('_').  Matplotlib is ignoring the edgecolor in favor of the facecolor.  This behavior may change in the future.\n",
      "  ax.scatter(x, y,\n",
      "/Library/Frameworks/Python.framework/Versions/3.10/lib/python3.10/site-packages/seaborn/categorical.py:1733: UserWarning: You passed a edgecolor/edgecolors ([(0.0, 0.0, 0.0), (0.0, 0.0, 0.0)]) for an unfilled marker ('_').  Matplotlib is ignoring the edgecolor in favor of the facecolor.  This behavior may change in the future.\n",
      "  ax.scatter(x, y,\n"
     ]
    },
    {
     "data": {
      "image/png": "[encoded data removed]",
      "text/plain": [
       "<Figure size 648x108 with 5 Axes>"
      ]
     },
     "metadata": {
      "needs_background": "light"
     },
     "output_type": "display_data"
    }
   ],
   "source": [
    "f, axs = plt.subplots(1,nparams)\n",
    "f.set_size_inches(9, 1.5)\n",
    "plt.subplots_adjust(wspace=1., hspace=1)\n",
    "plt.rcParams['font.family'] = \"Arial\"\n",
    "\n",
    "titles = ['Gain', 'Space-Center', 'Space-Width', 'Time-Center', 'Time-Width']\n",
    "\n",
    "pltidx = 0\n",
    "\n",
    "for idx in [1,2,3,4,0]:\n",
    "\n",
    "    thiskey = keys[idx+2]    \n",
    "    \n",
    "    plt.subplot(1,nparams,pltidx+1)\n",
    "    if idx == 3:\n",
    "        plt.arrow(x=-0.1, y=onset[1], dx=-0.2, dy=0, width=.015, head_length=0.2, facecolor='gray')\n",
    "        plt.arrow(x=-0.1, y=stimonset[1], dx=-0.2, dy=0, width=.015, head_length=0.2, facecolor='white')\n",
    "    elif idx == 1:\n",
    "        plt.arrow(x=-0.1, y=onset[0], dx=-0.2, dy=0, width=1, head_length=0.2, facecolor='gray')\n",
    "        plt.arrow(x=-0.1, y=stimonset[0], dx=-0.2, dy=0, width=1, head_length=0.2, facecolor='white')\n",
    "\n",
    "    sns.stripplot(x=\"group\", y=thiskey, data=params, ax=axs[pltidx], order=[\"SC\",\"EB\"], alpha=.75, palette=colorpalette,\n",
    "             edgecolor='white', linewidth=1, size=8.5, marker='o', zorder=1)\n",
    "    sns.pointplot(x=\"group\", y=thiskey, data=params, ax=axs[pltidx], order=[\"SC\",\"EB\"], ci=68, \n",
    "                 color=\"0\", join=False, scale=2, markers='_', errwidth=1, capsize=0.1)\n",
    "    axs[pltidx].set(ylabel=None)\n",
    "    axs[pltidx].set(xlabel=None)\n",
    "    \n",
    "    plt.xlabel('');\n",
    "    plt.xticks([0, 1], ['Sighted', 'Early Blind'], rotation=-30, fontsize=10)\n",
    "    plt.title(titles[idx])\n",
    "    \n",
    "    if idx == 3: # time - center\n",
    "        plt.yticks([-0.1, 0.1, 0.3, 0.5])\n",
    "        plt.ylabel('Time (s)');\n",
    "    elif idx == 1: # space - center\n",
    "        plt.yticks([0, 20, 40])\n",
    "        plt.ylabel('Space (deg)');\n",
    "    elif idx == 2: # space - width\n",
    "        plt.yticks([0, 20, 40])\n",
    "        plt.ylabel('Space (deg)');\n",
    "    elif idx == 4: # time - width\n",
    "        plt.yticks([0, 0.2, 0.4, 0.6])\n",
    "        plt.ylabel('Time (s)');\n",
    "    elif idx == 0: # amp\n",
    "        plt.yticks([0, 0.05, 0.1])\n",
    "        plt.ylabel('Gain (a.u.)')\n",
    "\n",
    "    sns.despine()\n",
    "    \n",
    "    pltidx = pltidx + 1\n"
   ]
  },
  {
   "cell_type": "markdown",
   "id": "35395d10",
   "metadata": {},
   "source": [
    "# Stats"
   ]
  },
  {
   "cell_type": "code",
   "execution_count": 6,
   "id": "68e0e6c4",
   "metadata": {},
   "outputs": [],
   "source": [
    "results = [None] * nparams\n",
    "for idx in range(nparams):\n",
    "    thiskey = keys[idx+2]\n",
    "    x = params.loc[params[\"group\"]==\"EB\"][thiskey]\n",
    "    y = params.loc[params[\"group\"]==\"SC\"][thiskey]\n",
    "    results[idx] = pg.ttest(x,y)"
   ]
  },
  {
   "cell_type": "code",
   "execution_count": 7,
   "id": "2e5303bf",
   "metadata": {},
   "outputs": [
    {
     "data": {
      "text/html": [
       "<div>\n",
       "<style scoped>\n",
       "    .dataframe tbody tr th:only-of-type {\n",
       "        vertical-align: middle;\n",
       "    }\n",
       "\n",
       "    .dataframe tbody tr th {\n",
       "        vertical-align: top;\n",
       "    }\n",
       "\n",
       "    .dataframe thead th {\n",
       "        text-align: right;\n",
       "    }\n",
       "</style>\n",
       "<table border=\"1\" class=\"dataframe\">\n",
       "  <thead>\n",
       "    <tr style=\"text-align: right;\">\n",
       "      <th></th>\n",
       "      <th>T</th>\n",
       "      <th>dof</th>\n",
       "      <th>alternative</th>\n",
       "      <th>p-val</th>\n",
       "      <th>CI95%</th>\n",
       "      <th>cohen-d</th>\n",
       "      <th>BF10</th>\n",
       "      <th>power</th>\n",
       "    </tr>\n",
       "  </thead>\n",
       "  <tbody>\n",
       "    <tr>\n",
       "      <th>T-test</th>\n",
       "      <td>3.724693</td>\n",
       "      <td>14</td>\n",
       "      <td>two-sided</td>\n",
       "      <td>0.002264</td>\n",
       "      <td>[0.01, 0.06]</td>\n",
       "      <td>1.862346</td>\n",
       "      <td>15.586</td>\n",
       "      <td>0.933086</td>\n",
       "    </tr>\n",
       "  </tbody>\n",
       "</table>\n",
       "</div>"
      ],
      "text/plain": [
       "               T  dof alternative     p-val         CI95%   cohen-d    BF10  \\\n",
       "T-test  3.724693   14   two-sided  0.002264  [0.01, 0.06]  1.862346  15.586   \n",
       "\n",
       "           power  \n",
       "T-test  0.933086  "
      ]
     },
     "execution_count": 7,
     "metadata": {},
     "output_type": "execute_result"
    }
   ],
   "source": [
    "results[0]"
   ]
  },
  {
   "cell_type": "code",
   "execution_count": 8,
   "id": "5080d2b4",
   "metadata": {},
   "outputs": [
    {
     "data": {
      "text/html": [
       "<div>\n",
       "<style scoped>\n",
       "    .dataframe tbody tr th:only-of-type {\n",
       "        vertical-align: middle;\n",
       "    }\n",
       "\n",
       "    .dataframe tbody tr th {\n",
       "        vertical-align: top;\n",
       "    }\n",
       "\n",
       "    .dataframe thead th {\n",
       "        text-align: right;\n",
       "    }\n",
       "</style>\n",
       "<table border=\"1\" class=\"dataframe\">\n",
       "  <thead>\n",
       "    <tr style=\"text-align: right;\">\n",
       "      <th></th>\n",
       "      <th>T</th>\n",
       "      <th>dof</th>\n",
       "      <th>alternative</th>\n",
       "      <th>p-val</th>\n",
       "      <th>CI95%</th>\n",
       "      <th>cohen-d</th>\n",
       "      <th>BF10</th>\n",
       "      <th>power</th>\n",
       "    </tr>\n",
       "  </thead>\n",
       "  <tbody>\n",
       "    <tr>\n",
       "      <th>T-test</th>\n",
       "      <td>-2.400057</td>\n",
       "      <td>14</td>\n",
       "      <td>two-sided</td>\n",
       "      <td>0.030866</td>\n",
       "      <td>[-16.73, -0.94]</td>\n",
       "      <td>1.200029</td>\n",
       "      <td>2.4</td>\n",
       "      <td>0.607839</td>\n",
       "    </tr>\n",
       "  </tbody>\n",
       "</table>\n",
       "</div>"
      ],
      "text/plain": [
       "               T  dof alternative     p-val            CI95%   cohen-d BF10  \\\n",
       "T-test -2.400057   14   two-sided  0.030866  [-16.73, -0.94]  1.200029  2.4   \n",
       "\n",
       "           power  \n",
       "T-test  0.607839  "
      ]
     },
     "execution_count": 8,
     "metadata": {},
     "output_type": "execute_result"
    }
   ],
   "source": [
    "results[1]"
   ]
  },
  {
   "cell_type": "code",
   "execution_count": 9,
   "id": "e3ca044c",
   "metadata": {},
   "outputs": [
    {
     "data": {
      "text/html": [
       "<div>\n",
       "<style scoped>\n",
       "    .dataframe tbody tr th:only-of-type {\n",
       "        vertical-align: middle;\n",
       "    }\n",
       "\n",
       "    .dataframe tbody tr th {\n",
       "        vertical-align: top;\n",
       "    }\n",
       "\n",
       "    .dataframe thead th {\n",
       "        text-align: right;\n",
       "    }\n",
       "</style>\n",
       "<table border=\"1\" class=\"dataframe\">\n",
       "  <thead>\n",
       "    <tr style=\"text-align: right;\">\n",
       "      <th></th>\n",
       "      <th>T</th>\n",
       "      <th>dof</th>\n",
       "      <th>alternative</th>\n",
       "      <th>p-val</th>\n",
       "      <th>CI95%</th>\n",
       "      <th>cohen-d</th>\n",
       "      <th>BF10</th>\n",
       "      <th>power</th>\n",
       "    </tr>\n",
       "  </thead>\n",
       "  <tbody>\n",
       "    <tr>\n",
       "      <th>T-test</th>\n",
       "      <td>1.185069</td>\n",
       "      <td>14</td>\n",
       "      <td>two-sided</td>\n",
       "      <td>0.255717</td>\n",
       "      <td>[-3.79, 13.17]</td>\n",
       "      <td>0.592534</td>\n",
       "      <td>0.68</td>\n",
       "      <td>0.197366</td>\n",
       "    </tr>\n",
       "  </tbody>\n",
       "</table>\n",
       "</div>"
      ],
      "text/plain": [
       "               T  dof alternative     p-val           CI95%   cohen-d  BF10  \\\n",
       "T-test  1.185069   14   two-sided  0.255717  [-3.79, 13.17]  0.592534  0.68   \n",
       "\n",
       "           power  \n",
       "T-test  0.197366  "
      ]
     },
     "execution_count": 9,
     "metadata": {},
     "output_type": "execute_result"
    }
   ],
   "source": [
    "results[2]"
   ]
  },
  {
   "cell_type": "code",
   "execution_count": 10,
   "id": "15bcce49",
   "metadata": {},
   "outputs": [
    {
     "data": {
      "text/html": [
       "<div>\n",
       "<style scoped>\n",
       "    .dataframe tbody tr th:only-of-type {\n",
       "        vertical-align: middle;\n",
       "    }\n",
       "\n",
       "    .dataframe tbody tr th {\n",
       "        vertical-align: top;\n",
       "    }\n",
       "\n",
       "    .dataframe thead th {\n",
       "        text-align: right;\n",
       "    }\n",
       "</style>\n",
       "<table border=\"1\" class=\"dataframe\">\n",
       "  <thead>\n",
       "    <tr style=\"text-align: right;\">\n",
       "      <th></th>\n",
       "      <th>T</th>\n",
       "      <th>dof</th>\n",
       "      <th>alternative</th>\n",
       "      <th>p-val</th>\n",
       "      <th>CI95%</th>\n",
       "      <th>cohen-d</th>\n",
       "      <th>BF10</th>\n",
       "      <th>power</th>\n",
       "    </tr>\n",
       "  </thead>\n",
       "  <tbody>\n",
       "    <tr>\n",
       "      <th>T-test</th>\n",
       "      <td>1.927373</td>\n",
       "      <td>14</td>\n",
       "      <td>two-sided</td>\n",
       "      <td>0.074473</td>\n",
       "      <td>[-0.01, 0.19]</td>\n",
       "      <td>0.963687</td>\n",
       "      <td>1.366</td>\n",
       "      <td>0.434595</td>\n",
       "    </tr>\n",
       "  </tbody>\n",
       "</table>\n",
       "</div>"
      ],
      "text/plain": [
       "               T  dof alternative     p-val          CI95%   cohen-d   BF10  \\\n",
       "T-test  1.927373   14   two-sided  0.074473  [-0.01, 0.19]  0.963687  1.366   \n",
       "\n",
       "           power  \n",
       "T-test  0.434595  "
      ]
     },
     "execution_count": 10,
     "metadata": {},
     "output_type": "execute_result"
    }
   ],
   "source": [
    "results[3]"
   ]
  },
  {
   "cell_type": "code",
   "execution_count": 11,
   "id": "6190fd08",
   "metadata": {},
   "outputs": [
    {
     "data": {
      "text/html": [
       "<div>\n",
       "<style scoped>\n",
       "    .dataframe tbody tr th:only-of-type {\n",
       "        vertical-align: middle;\n",
       "    }\n",
       "\n",
       "    .dataframe tbody tr th {\n",
       "        vertical-align: top;\n",
       "    }\n",
       "\n",
       "    .dataframe thead th {\n",
       "        text-align: right;\n",
       "    }\n",
       "</style>\n",
       "<table border=\"1\" class=\"dataframe\">\n",
       "  <thead>\n",
       "    <tr style=\"text-align: right;\">\n",
       "      <th></th>\n",
       "      <th>T</th>\n",
       "      <th>dof</th>\n",
       "      <th>alternative</th>\n",
       "      <th>p-val</th>\n",
       "      <th>CI95%</th>\n",
       "      <th>cohen-d</th>\n",
       "      <th>BF10</th>\n",
       "      <th>power</th>\n",
       "    </tr>\n",
       "  </thead>\n",
       "  <tbody>\n",
       "    <tr>\n",
       "      <th>T-test</th>\n",
       "      <td>1.388794</td>\n",
       "      <td>14</td>\n",
       "      <td>two-sided</td>\n",
       "      <td>0.186594</td>\n",
       "      <td>[-0.03, 0.12]</td>\n",
       "      <td>0.694397</td>\n",
       "      <td>0.802</td>\n",
       "      <td>0.253456</td>\n",
       "    </tr>\n",
       "  </tbody>\n",
       "</table>\n",
       "</div>"
      ],
      "text/plain": [
       "               T  dof alternative     p-val          CI95%   cohen-d   BF10  \\\n",
       "T-test  1.388794   14   two-sided  0.186594  [-0.03, 0.12]  0.694397  0.802   \n",
       "\n",
       "           power  \n",
       "T-test  0.253456  "
      ]
     },
     "execution_count": 11,
     "metadata": {},
     "output_type": "execute_result"
    }
   ],
   "source": [
    "results[4]"
   ]
  },
  {
   "cell_type": "code",
   "execution_count": null,
   "id": "70f81603",
   "metadata": {},
   "outputs": [],
   "source": []
  }
 ],
 "metadata": {
  "kernelspec": {
   "display_name": "Python 3 (ipykernel)",
   "language": "python",
   "name": "python3"
  },
  "language_info": {
   "codemirror_mode": {
    "name": "ipython",
    "version": 3
   },
   "file_extension": ".py",
   "mimetype": "text/x-python",
   "name": "python",
   "nbconvert_exporter": "python",
   "pygments_lexer": "ipython3",
   "version": "3.10.5"
  }
 },
 "nbformat": 4,
 "nbformat_minor": 5
}
