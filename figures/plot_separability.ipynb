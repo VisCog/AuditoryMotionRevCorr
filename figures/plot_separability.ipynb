{
 "cells": [
  {
   "cell_type": "code",
   "execution_count": 1,
   "id": "2d7cc62b",
   "metadata": {},
   "outputs": [],
   "source": [
    "%matplotlib inline\n",
    "\n",
    "import numpy as np\n",
    "import pandas as pd\n",
    "import seaborn as sns\n",
    "import matplotlib.pyplot as plt\n",
    "import pingouin as pg\n",
    "import matplotlib\n",
    "matplotlib.rcParams['pdf.fonttype'] = 42\n",
    "matplotlib.rcParams['ps.fonttype'] = 42\n",
    "matplotlib.rcParams['font.family'] = \"Arial\""
   ]
  },
  {
   "cell_type": "markdown",
   "id": "9a3e2a80",
   "metadata": {},
   "source": [
    "# 1D Gaussian model (non-sep) vs. 2D Gaussian model (sep)"
   ]
  },
  {
   "cell_type": "code",
   "execution_count": 2,
   "id": "072eccb5",
   "metadata": {},
   "outputs": [],
   "source": [
    "datapath = '../../DataTables/Separability.csv'\n",
    "params = pd.read_csv(datapath)"
   ]
  },
  {
   "cell_type": "code",
   "execution_count": 3,
   "id": "1f663693",
   "metadata": {},
   "outputs": [
    {
     "data": {
      "text/html": [
       "<div>\n",
       "<style scoped>\n",
       "    .dataframe tbody tr th:only-of-type {\n",
       "        vertical-align: middle;\n",
       "    }\n",
       "\n",
       "    .dataframe tbody tr th {\n",
       "        vertical-align: top;\n",
       "    }\n",
       "\n",
       "    .dataframe thead th {\n",
       "        text-align: right;\n",
       "    }\n",
       "</style>\n",
       "<table border=\"1\" class=\"dataframe\">\n",
       "  <thead>\n",
       "    <tr style=\"text-align: right;\">\n",
       "      <th></th>\n",
       "      <th></th>\n",
       "      <th>crosscorr</th>\n",
       "    </tr>\n",
       "    <tr>\n",
       "      <th>group</th>\n",
       "      <th>model</th>\n",
       "      <th></th>\n",
       "    </tr>\n",
       "  </thead>\n",
       "  <tbody>\n",
       "    <tr>\n",
       "      <th rowspan=\"2\" valign=\"top\">EB</th>\n",
       "      <th>non-sep</th>\n",
       "      <td>0.017150</td>\n",
       "    </tr>\n",
       "    <tr>\n",
       "      <th>sep</th>\n",
       "      <td>0.025085</td>\n",
       "    </tr>\n",
       "    <tr>\n",
       "      <th rowspan=\"2\" valign=\"top\">SC</th>\n",
       "      <th>non-sep</th>\n",
       "      <td>0.005673</td>\n",
       "    </tr>\n",
       "    <tr>\n",
       "      <th>sep</th>\n",
       "      <td>0.008864</td>\n",
       "    </tr>\n",
       "  </tbody>\n",
       "</table>\n",
       "</div>"
      ],
      "text/plain": [
       "               crosscorr\n",
       "group model             \n",
       "EB    non-sep   0.017150\n",
       "      sep       0.025085\n",
       "SC    non-sep   0.005673\n",
       "      sep       0.008864"
      ]
     },
     "execution_count": 3,
     "metadata": {},
     "output_type": "execute_result"
    }
   ],
   "source": [
    "params_mean = params.groupby(['group', 'model']).mean()\n",
    "params_sem = params.groupby(['group', 'model']).sem()\n",
    "params_mean"
   ]
  },
  {
   "cell_type": "code",
   "execution_count": 4,
   "id": "2e72538f",
   "metadata": {},
   "outputs": [
    {
     "name": "stdout",
     "output_type": "stream",
     "text": [
      "['#a6cee3', '#1f78b4', '#b2df8a', '#33a02c', '#fb9a99', '#e31a1c', '#fdbf6f', '#ff7f00', '#cab2d6', '#6a3d9a', '#ffff99', '#b15928']\n"
     ]
    }
   ],
   "source": [
    "print(sns.color_palette(\"Paired\").as_hex())"
   ]
  },
  {
   "cell_type": "code",
   "execution_count": 5,
   "id": "d8d366a3",
   "metadata": {},
   "outputs": [],
   "source": [
    "colorpalette1=['#b2df8a', '#33a02c']\n",
    "colorpalette2=['#cab2d6', '#6a3d9a']"
   ]
  },
  {
   "cell_type": "code",
   "execution_count": 6,
   "id": "f78191a5",
   "metadata": {},
   "outputs": [],
   "source": [
    "paramsEB = params[params['group']=='EB']\n",
    "paramsSC = params[params['group']=='SC']"
   ]
  },
  {
   "cell_type": "markdown",
   "id": "d504f456",
   "metadata": {},
   "source": [
    "# Surface Model "
   ]
  },
  {
   "cell_type": "code",
   "execution_count": 7,
   "id": "cfcd7401",
   "metadata": {},
   "outputs": [],
   "source": [
    "datapath2 = '../../DataTables/Separability_params.csv'\n",
    "params2 = pd.read_csv(datapath2)"
   ]
  },
  {
   "cell_type": "code",
   "execution_count": 8,
   "id": "752c84fb",
   "metadata": {},
   "outputs": [
    {
     "data": {
      "text/html": [
       "<div>\n",
       "<style scoped>\n",
       "    .dataframe tbody tr th:only-of-type {\n",
       "        vertical-align: middle;\n",
       "    }\n",
       "\n",
       "    .dataframe tbody tr th {\n",
       "        vertical-align: top;\n",
       "    }\n",
       "\n",
       "    .dataframe thead th {\n",
       "        text-align: right;\n",
       "    }\n",
       "</style>\n",
       "<table border=\"1\" class=\"dataframe\">\n",
       "  <thead>\n",
       "    <tr style=\"text-align: right;\">\n",
       "      <th></th>\n",
       "      <th>ST-amp</th>\n",
       "      <th>ST-center</th>\n",
       "      <th>ST-width</th>\n",
       "      <th>ST-err</th>\n",
       "      <th>ST-crosscorr</th>\n",
       "      <th>1DG-amp</th>\n",
       "      <th>1DG-ang</th>\n",
       "      <th>1DG-width</th>\n",
       "      <th>1DG-err</th>\n",
       "      <th>1DG-crosscorr</th>\n",
       "      <th>Surf-sf</th>\n",
       "      <th>Surf-amp</th>\n",
       "      <th>Surf-a</th>\n",
       "      <th>Surf-err</th>\n",
       "      <th>Surf2-sf</th>\n",
       "      <th>Surf2-amp</th>\n",
       "      <th>Surf2-a</th>\n",
       "      <th>Surf2-err</th>\n",
       "    </tr>\n",
       "    <tr>\n",
       "      <th>group</th>\n",
       "      <th></th>\n",
       "      <th></th>\n",
       "      <th></th>\n",
       "      <th></th>\n",
       "      <th></th>\n",
       "      <th></th>\n",
       "      <th></th>\n",
       "      <th></th>\n",
       "      <th></th>\n",
       "      <th></th>\n",
       "      <th></th>\n",
       "      <th></th>\n",
       "      <th></th>\n",
       "      <th></th>\n",
       "      <th></th>\n",
       "      <th></th>\n",
       "      <th></th>\n",
       "      <th></th>\n",
       "    </tr>\n",
       "  </thead>\n",
       "  <tbody>\n",
       "    <tr>\n",
       "      <th>EB</th>\n",
       "      <td>0.005688</td>\n",
       "      <td>0.09998</td>\n",
       "      <td>0.035212</td>\n",
       "      <td>0.000975</td>\n",
       "      <td>0.003772</td>\n",
       "      <td>0.001546</td>\n",
       "      <td>0.012590</td>\n",
       "      <td>0.015284</td>\n",
       "      <td>0.001265</td>\n",
       "      <td>0.003063</td>\n",
       "      <td>0.038844</td>\n",
       "      <td>0.009287</td>\n",
       "      <td>0.019416</td>\n",
       "      <td>0.000946</td>\n",
       "      <td>0.038819</td>\n",
       "      <td>0.009282</td>\n",
       "      <td>0.040964</td>\n",
       "      <td>0.000971</td>\n",
       "    </tr>\n",
       "    <tr>\n",
       "      <th>SC</th>\n",
       "      <td>0.002816</td>\n",
       "      <td>0.05077</td>\n",
       "      <td>0.063399</td>\n",
       "      <td>0.001817</td>\n",
       "      <td>0.002955</td>\n",
       "      <td>0.001774</td>\n",
       "      <td>0.034809</td>\n",
       "      <td>0.020521</td>\n",
       "      <td>0.002536</td>\n",
       "      <td>0.002039</td>\n",
       "      <td>0.036868</td>\n",
       "      <td>0.013986</td>\n",
       "      <td>0.010968</td>\n",
       "      <td>0.001792</td>\n",
       "      <td>0.040120</td>\n",
       "      <td>0.014191</td>\n",
       "      <td>0.100976</td>\n",
       "      <td>0.001757</td>\n",
       "    </tr>\n",
       "  </tbody>\n",
       "</table>\n",
       "</div>"
      ],
      "text/plain": [
       "         ST-amp  ST-center  ST-width    ST-err  ST-crosscorr   1DG-amp  \\\n",
       "group                                                                    \n",
       "EB     0.005688    0.09998  0.035212  0.000975      0.003772  0.001546   \n",
       "SC     0.002816    0.05077  0.063399  0.001817      0.002955  0.001774   \n",
       "\n",
       "        1DG-ang  1DG-width   1DG-err  1DG-crosscorr   Surf-sf  Surf-amp  \\\n",
       "group                                                                     \n",
       "EB     0.012590   0.015284  0.001265       0.003063  0.038844  0.009287   \n",
       "SC     0.034809   0.020521  0.002536       0.002039  0.036868  0.013986   \n",
       "\n",
       "         Surf-a  Surf-err  Surf2-sf  Surf2-amp   Surf2-a  Surf2-err  \n",
       "group                                                                \n",
       "EB     0.019416  0.000946  0.038819   0.009282  0.040964   0.000971  \n",
       "SC     0.010968  0.001792  0.040120   0.014191  0.100976   0.001757  "
      ]
     },
     "execution_count": 8,
     "metadata": {},
     "output_type": "execute_result"
    }
   ],
   "source": [
    "params2_mean = params2.groupby(['group']).mean()\n",
    "params2_sem = params2.groupby(['group']).sem()\n",
    "params2_sem"
   ]
  },
  {
   "cell_type": "code",
   "execution_count": 9,
   "id": "e0527c4b",
   "metadata": {},
   "outputs": [
    {
     "name": "stdout",
     "output_type": "stream",
     "text": [
      "['#4c72b0', '#dd8452', '#55a868', '#c44e52', '#8172b3', '#937860', '#da8bc3', '#8c8c8c', '#ccb974', '#64b5cd']\n"
     ]
    }
   ],
   "source": [
    "print(sns.color_palette(\"deep\").as_hex())"
   ]
  },
  {
   "cell_type": "code",
   "execution_count": 10,
   "id": "16fb6b11",
   "metadata": {},
   "outputs": [],
   "source": [
    "colorpalette=['#55a868','#8172b3']"
   ]
  },
  {
   "cell_type": "code",
   "execution_count": 11,
   "id": "289f6692",
   "metadata": {},
   "outputs": [
    {
     "name": "stderr",
     "output_type": "stream",
     "text": [
      "/Library/Frameworks/Python.framework/Versions/3.10/lib/python3.10/site-packages/seaborn/categorical.py:1733: UserWarning: You passed a edgecolor/edgecolors ([(0.0, 0.0, 0.0), (0.0, 0.0, 0.0)]) for an unfilled marker ('_').  Matplotlib is ignoring the edgecolor in favor of the facecolor.  This behavior may change in the future.\n",
      "  ax.scatter(x, y,\n"
     ]
    },
    {
     "data": {
      "text/plain": [
       "<Figure size 432x288 with 0 Axes>"
      ]
     },
     "metadata": {},
     "output_type": "display_data"
    },
    {
     "data": {
      "image/png": "[encoded data removed]",
      "text/plain": [
       "<Figure size 108x216 with 1 Axes>"
      ]
     },
     "metadata": {
      "needs_background": "light"
     },
     "output_type": "display_data"
    }
   ],
   "source": [
    "plt.figure(2)\n",
    "plt.figure(figsize=(1.5,3))\n",
    "plt.rcParams['font.family'] = \"Arial\"\n",
    "\n",
    "plt.axhline(y=0, color=\".25\")\n",
    "plt.axhline(y=1, color=\".25\")\n",
    "sns.stripplot(x=\"group\", y='Surf-a', data=params2, order=[\"SC\",\"EB\"], alpha=.75, palette=colorpalette,\n",
    "             edgecolor='white', linewidth=1, size=8.5, marker='o', zorder=1)\n",
    "sns.pointplot(x=\"group\", y=\"Surf-a\", data=params2, order=[\"SC\",\"EB\"], join=False, color=\"0\", ci=68, \n",
    "             scale=2, markers='_', errwidth=1, capsize=0.1)\n",
    "\n",
    "plt.ylabel('Separability (a)', fontsize=10);\n",
    "plt.xlabel('');\n",
    "plt.xticks([0, 1], ['Sighted', 'Early Blind'], fontsize=10, rotation=-30)\n",
    "\n",
    "sns.despine()\n"
   ]
  },
  {
   "cell_type": "markdown",
   "id": "a6e93a53",
   "metadata": {},
   "source": [
    "# Surface Model Stats"
   ]
  },
  {
   "cell_type": "code",
   "execution_count": 12,
   "id": "d66c22bc",
   "metadata": {},
   "outputs": [],
   "source": [
    "params2EB=params2[params2[\"group\"]==\"EB\"]\n",
    "params2SC=params2[params2[\"group\"]==\"SC\"]"
   ]
  },
  {
   "cell_type": "code",
   "execution_count": 13,
   "id": "3d6f7491",
   "metadata": {},
   "outputs": [
    {
     "data": {
      "text/html": [
       "<div>\n",
       "<style scoped>\n",
       "    .dataframe tbody tr th:only-of-type {\n",
       "        vertical-align: middle;\n",
       "    }\n",
       "\n",
       "    .dataframe tbody tr th {\n",
       "        vertical-align: top;\n",
       "    }\n",
       "\n",
       "    .dataframe thead th {\n",
       "        text-align: right;\n",
       "    }\n",
       "</style>\n",
       "<table border=\"1\" class=\"dataframe\">\n",
       "  <thead>\n",
       "    <tr style=\"text-align: right;\">\n",
       "      <th></th>\n",
       "      <th>T</th>\n",
       "      <th>dof</th>\n",
       "      <th>alternative</th>\n",
       "      <th>p-val</th>\n",
       "      <th>CI95%</th>\n",
       "      <th>cohen-d</th>\n",
       "      <th>BF10</th>\n",
       "      <th>power</th>\n",
       "    </tr>\n",
       "  </thead>\n",
       "  <tbody>\n",
       "    <tr>\n",
       "      <th>T-test</th>\n",
       "      <td>0.142597</td>\n",
       "      <td>7</td>\n",
       "      <td>two-sided</td>\n",
       "      <td>0.890626</td>\n",
       "      <td>[-0.09, 0.1]</td>\n",
       "      <td>0.050416</td>\n",
       "      <td>0.339</td>\n",
       "      <td>0.05177</td>\n",
       "    </tr>\n",
       "  </tbody>\n",
       "</table>\n",
       "</div>"
      ],
      "text/plain": [
       "               T  dof alternative     p-val         CI95%   cohen-d   BF10  \\\n",
       "T-test  0.142597    7   two-sided  0.890626  [-0.09, 0.1]  0.050416  0.339   \n",
       "\n",
       "          power  \n",
       "T-test  0.05177  "
      ]
     },
     "execution_count": 13,
     "metadata": {},
     "output_type": "execute_result"
    }
   ],
   "source": [
    "pg.ttest(x=params2EB['Surf2-a'], y=0)"
   ]
  },
  {
   "cell_type": "code",
   "execution_count": 14,
   "id": "c696245f",
   "metadata": {},
   "outputs": [
    {
     "data": {
      "text/html": [
       "<div>\n",
       "<style scoped>\n",
       "    .dataframe tbody tr th:only-of-type {\n",
       "        vertical-align: middle;\n",
       "    }\n",
       "\n",
       "    .dataframe tbody tr th {\n",
       "        vertical-align: top;\n",
       "    }\n",
       "\n",
       "    .dataframe thead th {\n",
       "        text-align: right;\n",
       "    }\n",
       "</style>\n",
       "<table border=\"1\" class=\"dataframe\">\n",
       "  <thead>\n",
       "    <tr style=\"text-align: right;\">\n",
       "      <th></th>\n",
       "      <th>T</th>\n",
       "      <th>dof</th>\n",
       "      <th>alternative</th>\n",
       "      <th>p-val</th>\n",
       "      <th>CI95%</th>\n",
       "      <th>cohen-d</th>\n",
       "      <th>BF10</th>\n",
       "      <th>power</th>\n",
       "    </tr>\n",
       "  </thead>\n",
       "  <tbody>\n",
       "    <tr>\n",
       "      <th>T-test</th>\n",
       "      <td>-1.823589</td>\n",
       "      <td>7</td>\n",
       "      <td>two-sided</td>\n",
       "      <td>0.110983</td>\n",
       "      <td>[-0.42, 0.05]</td>\n",
       "      <td>0.644736</td>\n",
       "      <td>1.062</td>\n",
       "      <td>0.350868</td>\n",
       "    </tr>\n",
       "  </tbody>\n",
       "</table>\n",
       "</div>"
      ],
      "text/plain": [
       "               T  dof alternative     p-val          CI95%   cohen-d   BF10  \\\n",
       "T-test -1.823589    7   two-sided  0.110983  [-0.42, 0.05]  0.644736  1.062   \n",
       "\n",
       "           power  \n",
       "T-test  0.350868  "
      ]
     },
     "execution_count": 14,
     "metadata": {},
     "output_type": "execute_result"
    }
   ],
   "source": [
    "pg.ttest(x=params2SC['Surf2-a'], y=0)"
   ]
  },
  {
   "cell_type": "code",
   "execution_count": 15,
   "id": "1610bdba",
   "metadata": {},
   "outputs": [
    {
     "data": {
      "text/html": [
       "<div>\n",
       "<style scoped>\n",
       "    .dataframe tbody tr th:only-of-type {\n",
       "        vertical-align: middle;\n",
       "    }\n",
       "\n",
       "    .dataframe tbody tr th {\n",
       "        vertical-align: top;\n",
       "    }\n",
       "\n",
       "    .dataframe thead th {\n",
       "        text-align: right;\n",
       "    }\n",
       "</style>\n",
       "<table border=\"1\" class=\"dataframe\">\n",
       "  <thead>\n",
       "    <tr style=\"text-align: right;\">\n",
       "      <th></th>\n",
       "      <th>T</th>\n",
       "      <th>dof</th>\n",
       "      <th>alternative</th>\n",
       "      <th>p-val</th>\n",
       "      <th>CI95%</th>\n",
       "      <th>cohen-d</th>\n",
       "      <th>BF10</th>\n",
       "      <th>power</th>\n",
       "    </tr>\n",
       "  </thead>\n",
       "  <tbody>\n",
       "    <tr>\n",
       "      <th>T-test</th>\n",
       "      <td>1.743437</td>\n",
       "      <td>14</td>\n",
       "      <td>two-sided</td>\n",
       "      <td>0.103166</td>\n",
       "      <td>[-0.04, 0.42]</td>\n",
       "      <td>0.871719</td>\n",
       "      <td>1.122</td>\n",
       "      <td>0.3687</td>\n",
       "    </tr>\n",
       "  </tbody>\n",
       "</table>\n",
       "</div>"
      ],
      "text/plain": [
       "               T  dof alternative     p-val          CI95%   cohen-d   BF10  \\\n",
       "T-test  1.743437   14   two-sided  0.103166  [-0.04, 0.42]  0.871719  1.122   \n",
       "\n",
       "         power  \n",
       "T-test  0.3687  "
      ]
     },
     "execution_count": 15,
     "metadata": {},
     "output_type": "execute_result"
    }
   ],
   "source": [
    "pg.ttest(x=params2EB['Surf2-a'], y=params2SC['Surf2-a'])"
   ]
  },
  {
   "cell_type": "code",
   "execution_count": 16,
   "id": "12201e15",
   "metadata": {},
   "outputs": [
    {
     "data": {
      "text/html": [
       "<div>\n",
       "<style scoped>\n",
       "    .dataframe tbody tr th:only-of-type {\n",
       "        vertical-align: middle;\n",
       "    }\n",
       "\n",
       "    .dataframe tbody tr th {\n",
       "        vertical-align: top;\n",
       "    }\n",
       "\n",
       "    .dataframe thead th {\n",
       "        text-align: right;\n",
       "    }\n",
       "</style>\n",
       "<table border=\"1\" class=\"dataframe\">\n",
       "  <thead>\n",
       "    <tr style=\"text-align: right;\">\n",
       "      <th></th>\n",
       "      <th>W-val</th>\n",
       "      <th>alternative</th>\n",
       "      <th>p-val</th>\n",
       "      <th>RBC</th>\n",
       "      <th>CLES</th>\n",
       "    </tr>\n",
       "  </thead>\n",
       "  <tbody>\n",
       "    <tr>\n",
       "      <th>Wilcoxon</th>\n",
       "      <td>0.0</td>\n",
       "      <td>two-sided</td>\n",
       "      <td>0.007812</td>\n",
       "      <td>1.0</td>\n",
       "      <td>NaN</td>\n",
       "    </tr>\n",
       "  </tbody>\n",
       "</table>\n",
       "</div>"
      ],
      "text/plain": [
       "          W-val alternative     p-val  RBC  CLES\n",
       "Wilcoxon    0.0   two-sided  0.007812  1.0   NaN"
      ]
     },
     "execution_count": 16,
     "metadata": {},
     "output_type": "execute_result"
    }
   ],
   "source": [
    "pg.wilcoxon(x=params2EB['Surf-a'], correction=True)"
   ]
  },
  {
   "cell_type": "code",
   "execution_count": 17,
   "id": "e1cfe416",
   "metadata": {},
   "outputs": [
    {
     "data": {
      "text/html": [
       "<div>\n",
       "<style scoped>\n",
       "    .dataframe tbody tr th:only-of-type {\n",
       "        vertical-align: middle;\n",
       "    }\n",
       "\n",
       "    .dataframe tbody tr th {\n",
       "        vertical-align: top;\n",
       "    }\n",
       "\n",
       "    .dataframe thead th {\n",
       "        text-align: right;\n",
       "    }\n",
       "</style>\n",
       "<table border=\"1\" class=\"dataframe\">\n",
       "  <thead>\n",
       "    <tr style=\"text-align: right;\">\n",
       "      <th></th>\n",
       "      <th>W-val</th>\n",
       "      <th>alternative</th>\n",
       "      <th>p-val</th>\n",
       "      <th>RBC</th>\n",
       "      <th>CLES</th>\n",
       "    </tr>\n",
       "  </thead>\n",
       "  <tbody>\n",
       "    <tr>\n",
       "      <th>Wilcoxon</th>\n",
       "      <td>0.0</td>\n",
       "      <td>two-sided</td>\n",
       "      <td>0.007812</td>\n",
       "      <td>1.0</td>\n",
       "      <td>NaN</td>\n",
       "    </tr>\n",
       "  </tbody>\n",
       "</table>\n",
       "</div>"
      ],
      "text/plain": [
       "          W-val alternative     p-val  RBC  CLES\n",
       "Wilcoxon    0.0   two-sided  0.007812  1.0   NaN"
      ]
     },
     "execution_count": 17,
     "metadata": {},
     "output_type": "execute_result"
    }
   ],
   "source": [
    "pg.wilcoxon(x=params2SC['Surf-a'], correction=True)"
   ]
  },
  {
   "cell_type": "code",
   "execution_count": 18,
   "id": "0ffe5c5d",
   "metadata": {},
   "outputs": [
    {
     "data": {
      "text/html": [
       "<div>\n",
       "<style scoped>\n",
       "    .dataframe tbody tr th:only-of-type {\n",
       "        vertical-align: middle;\n",
       "    }\n",
       "\n",
       "    .dataframe tbody tr th {\n",
       "        vertical-align: top;\n",
       "    }\n",
       "\n",
       "    .dataframe thead th {\n",
       "        text-align: right;\n",
       "    }\n",
       "</style>\n",
       "<table border=\"1\" class=\"dataframe\">\n",
       "  <thead>\n",
       "    <tr style=\"text-align: right;\">\n",
       "      <th></th>\n",
       "      <th>U-val</th>\n",
       "      <th>alternative</th>\n",
       "      <th>p-val</th>\n",
       "      <th>RBC</th>\n",
       "      <th>CLES</th>\n",
       "    </tr>\n",
       "  </thead>\n",
       "  <tbody>\n",
       "    <tr>\n",
       "      <th>MWU</th>\n",
       "      <td>40.0</td>\n",
       "      <td>two-sided</td>\n",
       "      <td>0.441803</td>\n",
       "      <td>-0.25</td>\n",
       "      <td>0.625</td>\n",
       "    </tr>\n",
       "  </tbody>\n",
       "</table>\n",
       "</div>"
      ],
      "text/plain": [
       "     U-val alternative     p-val   RBC   CLES\n",
       "MWU   40.0   two-sided  0.441803 -0.25  0.625"
      ]
     },
     "execution_count": 18,
     "metadata": {},
     "output_type": "execute_result"
    }
   ],
   "source": [
    "pg.mwu(x=params2EB['Surf-a'], y=params2SC['Surf-a'])"
   ]
  },
  {
   "cell_type": "markdown",
   "id": "f5469489",
   "metadata": {},
   "source": [
    "# Separable (a = 0) vs Non-separable (a = 1) "
   ]
  },
  {
   "cell_type": "code",
   "execution_count": 19,
   "id": "80d4b70b",
   "metadata": {},
   "outputs": [],
   "source": [
    "datapath3 = '../../DataTables/ModelComparison.csv'\n",
    "params3 = pd.read_csv(datapath3)"
   ]
  },
  {
   "cell_type": "code",
   "execution_count": 20,
   "id": "64bf79e6",
   "metadata": {},
   "outputs": [],
   "source": [
    "params3_mean = params3.groupby(['group', 'model']).mean()\n",
    "params3_sem = params3.groupby(['group', 'model']).sem()"
   ]
  },
  {
   "cell_type": "code",
   "execution_count": 21,
   "id": "ebc02c89",
   "metadata": {},
   "outputs": [],
   "source": [
    "colorpalette1=['#b2df8a', '#33a02c']\n",
    "colorpalette2=['#cab2d6', '#6a3d9a']"
   ]
  },
  {
   "cell_type": "code",
   "execution_count": 22,
   "id": "26cb9b81",
   "metadata": {},
   "outputs": [],
   "source": [
    "params3EB = params3[params3['group']=='EB']\n",
    "params3SC = params3[params3['group']=='SC']"
   ]
  },
  {
   "cell_type": "code",
   "execution_count": 23,
   "id": "717ce931",
   "metadata": {},
   "outputs": [
    {
     "name": "stderr",
     "output_type": "stream",
     "text": [
      "/Library/Frameworks/Python.framework/Versions/3.10/lib/python3.10/site-packages/seaborn/categorical.py:1733: UserWarning: You passed a edgecolor/edgecolors ([(0.0, 0.0, 0.0), (0.0, 0.0, 0.0)]) for an unfilled marker ('_').  Matplotlib is ignoring the edgecolor in favor of the facecolor.  This behavior may change in the future.\n",
      "  ax.scatter(x, y,\n",
      "/Library/Frameworks/Python.framework/Versions/3.10/lib/python3.10/site-packages/seaborn/categorical.py:1733: UserWarning: You passed a edgecolor/edgecolors ([(0.0, 0.0, 0.0), (0.0, 0.0, 0.0)]) for an unfilled marker ('_').  Matplotlib is ignoring the edgecolor in favor of the facecolor.  This behavior may change in the future.\n",
      "  ax.scatter(x, y,\n"
     ]
    },
    {
     "data": {
      "image/png": "[encoded data removed]",
      "text/plain": [
       "<Figure size 216x144 with 2 Axes>"
      ]
     },
     "metadata": {
      "needs_background": "light"
     },
     "output_type": "display_data"
    }
   ],
   "source": [
    "f, axs = plt.subplots(1,2,sharey=True)\n",
    "f.set_size_inches(3, 2)\n",
    "sns.stripplot(x=\"model\", y=\"crosscorr\", data=params3SC, ax=axs[0], \n",
    "              palette=colorpalette1, alpha=.75, zorder=1, edgecolor='white', linewidth=1, size=8.5, marker='o')\n",
    "sns.stripplot(x=\"model\", y=\"crosscorr\", data=params3EB, ax=axs[1], \n",
    "              palette=colorpalette2, alpha=.75, zorder=1, edgecolor='white', linewidth=1, size=8.5, marker='o')\n",
    "sns.pointplot(x=\"model\", y=\"crosscorr\", data=params3SC, color=\"0\", scale=2, markers='_',\n",
    "              errwidth=1, capsize=0.1, join=False, ci=68, ax=axs[0])\n",
    "sns.pointplot(x=\"model\", y=\"crosscorr\", data=params3EB, color=\"0\", scale=2, markers='_',\n",
    "              errwidth=1, capsize=0.1, join=False, ci=68, ax=axs[1])\n",
    "\n",
    "plt.subplot(1,2,1)\n",
    "plt.xticks([0, 1], ['Sep', 'Non-sep'])\n",
    "plt.xlabel('');\n",
    "plt.ylabel('Model Fit');\n",
    "plt.title('Sighted')\n",
    "\n",
    "plt.subplot(1,2,2)\n",
    "plt.ylabel('');\n",
    "plt.xlabel('');\n",
    "plt.xticks([0, 1], ['Sep', 'Non-sep'])\n",
    "plt.title('Early Blind')\n",
    "\n",
    "sns.despine()"
   ]
  },
  {
   "cell_type": "markdown",
   "id": "59f83aad",
   "metadata": {},
   "source": [
    "# Sep vs Non-sep Stats"
   ]
  },
  {
   "cell_type": "code",
   "execution_count": 24,
   "id": "1492c0fe",
   "metadata": {},
   "outputs": [
    {
     "data": {
      "text/html": [
       "<div>\n",
       "<style scoped>\n",
       "    .dataframe tbody tr th:only-of-type {\n",
       "        vertical-align: middle;\n",
       "    }\n",
       "\n",
       "    .dataframe tbody tr th {\n",
       "        vertical-align: top;\n",
       "    }\n",
       "\n",
       "    .dataframe thead th {\n",
       "        text-align: right;\n",
       "    }\n",
       "</style>\n",
       "<table border=\"1\" class=\"dataframe\">\n",
       "  <thead>\n",
       "    <tr style=\"text-align: right;\">\n",
       "      <th></th>\n",
       "      <th>Source</th>\n",
       "      <th>SS</th>\n",
       "      <th>DF1</th>\n",
       "      <th>DF2</th>\n",
       "      <th>MS</th>\n",
       "      <th>F</th>\n",
       "      <th>p-unc</th>\n",
       "      <th>np2</th>\n",
       "      <th>eps</th>\n",
       "    </tr>\n",
       "  </thead>\n",
       "  <tbody>\n",
       "    <tr>\n",
       "      <th>0</th>\n",
       "      <td>group</td>\n",
       "      <td>0.001537</td>\n",
       "      <td>1</td>\n",
       "      <td>14</td>\n",
       "      <td>0.001537</td>\n",
       "      <td>11.237115</td>\n",
       "      <td>0.004743</td>\n",
       "      <td>0.445261</td>\n",
       "      <td>NaN</td>\n",
       "    </tr>\n",
       "    <tr>\n",
       "      <th>1</th>\n",
       "      <td>model</td>\n",
       "      <td>0.000260</td>\n",
       "      <td>1</td>\n",
       "      <td>14</td>\n",
       "      <td>0.000260</td>\n",
       "      <td>46.597846</td>\n",
       "      <td>0.000008</td>\n",
       "      <td>0.768969</td>\n",
       "      <td>1.0</td>\n",
       "    </tr>\n",
       "    <tr>\n",
       "      <th>2</th>\n",
       "      <td>Interaction</td>\n",
       "      <td>0.000042</td>\n",
       "      <td>1</td>\n",
       "      <td>14</td>\n",
       "      <td>0.000042</td>\n",
       "      <td>7.566231</td>\n",
       "      <td>0.015624</td>\n",
       "      <td>0.350837</td>\n",
       "      <td>NaN</td>\n",
       "    </tr>\n",
       "  </tbody>\n",
       "</table>\n",
       "</div>"
      ],
      "text/plain": [
       "        Source        SS  DF1  DF2        MS          F     p-unc       np2  \\\n",
       "0        group  0.001537    1   14  0.001537  11.237115  0.004743  0.445261   \n",
       "1        model  0.000260    1   14  0.000260  46.597846  0.000008  0.768969   \n",
       "2  Interaction  0.000042    1   14  0.000042   7.566231  0.015624  0.350837   \n",
       "\n",
       "   eps  \n",
       "0  NaN  \n",
       "1  1.0  \n",
       "2  NaN  "
      ]
     },
     "execution_count": 24,
     "metadata": {},
     "output_type": "execute_result"
    }
   ],
   "source": [
    "pg.mixed_anova(dv='crosscorr', within='model', between='group', subject='sub', data=params3)"
   ]
  },
  {
   "cell_type": "code",
   "execution_count": 25,
   "id": "7b71a76f",
   "metadata": {},
   "outputs": [
    {
     "data": {
      "text/html": [
       "<div>\n",
       "<style scoped>\n",
       "    .dataframe tbody tr th:only-of-type {\n",
       "        vertical-align: middle;\n",
       "    }\n",
       "\n",
       "    .dataframe tbody tr th {\n",
       "        vertical-align: top;\n",
       "    }\n",
       "\n",
       "    .dataframe thead th {\n",
       "        text-align: right;\n",
       "    }\n",
       "</style>\n",
       "<table border=\"1\" class=\"dataframe\">\n",
       "  <thead>\n",
       "    <tr style=\"text-align: right;\">\n",
       "      <th></th>\n",
       "      <th>Contrast</th>\n",
       "      <th>group</th>\n",
       "      <th>A</th>\n",
       "      <th>B</th>\n",
       "      <th>Paired</th>\n",
       "      <th>Parametric</th>\n",
       "      <th>T</th>\n",
       "      <th>dof</th>\n",
       "      <th>alternative</th>\n",
       "      <th>p-unc</th>\n",
       "      <th>p-corr</th>\n",
       "      <th>p-adjust</th>\n",
       "      <th>BF10</th>\n",
       "      <th>hedges</th>\n",
       "    </tr>\n",
       "  </thead>\n",
       "  <tbody>\n",
       "    <tr>\n",
       "      <th>0</th>\n",
       "      <td>group</td>\n",
       "      <td>-</td>\n",
       "      <td>EB</td>\n",
       "      <td>SC</td>\n",
       "      <td>False</td>\n",
       "      <td>True</td>\n",
       "      <td>3.352181</td>\n",
       "      <td>14.0</td>\n",
       "      <td>two-sided</td>\n",
       "      <td>0.004743</td>\n",
       "      <td>NaN</td>\n",
       "      <td>NaN</td>\n",
       "      <td>8.951</td>\n",
       "      <td>1.584667</td>\n",
       "    </tr>\n",
       "    <tr>\n",
       "      <th>1</th>\n",
       "      <td>model</td>\n",
       "      <td>-</td>\n",
       "      <td>non-sep</td>\n",
       "      <td>sep</td>\n",
       "      <td>True</td>\n",
       "      <td>True</td>\n",
       "      <td>-5.693003</td>\n",
       "      <td>15.0</td>\n",
       "      <td>two-sided</td>\n",
       "      <td>0.000043</td>\n",
       "      <td>NaN</td>\n",
       "      <td>NaN</td>\n",
       "      <td>606.59</td>\n",
       "      <td>-0.509044</td>\n",
       "    </tr>\n",
       "    <tr>\n",
       "      <th>2</th>\n",
       "      <td>group * model</td>\n",
       "      <td>EB</td>\n",
       "      <td>non-sep</td>\n",
       "      <td>sep</td>\n",
       "      <td>True</td>\n",
       "      <td>True</td>\n",
       "      <td>-6.610354</td>\n",
       "      <td>7.0</td>\n",
       "      <td>two-sided</td>\n",
       "      <td>0.000301</td>\n",
       "      <td>0.000603</td>\n",
       "      <td>holm</td>\n",
       "      <td>110.002</td>\n",
       "      <td>-0.790787</td>\n",
       "    </tr>\n",
       "    <tr>\n",
       "      <th>3</th>\n",
       "      <td>group * model</td>\n",
       "      <td>SC</td>\n",
       "      <td>non-sep</td>\n",
       "      <td>sep</td>\n",
       "      <td>True</td>\n",
       "      <td>True</td>\n",
       "      <td>-2.955930</td>\n",
       "      <td>7.0</td>\n",
       "      <td>two-sided</td>\n",
       "      <td>0.021227</td>\n",
       "      <td>0.021227</td>\n",
       "      <td>holm</td>\n",
       "      <td>3.637</td>\n",
       "      <td>-0.450429</td>\n",
       "    </tr>\n",
       "  </tbody>\n",
       "</table>\n",
       "</div>"
      ],
      "text/plain": [
       "        Contrast group        A    B Paired  Parametric         T   dof  \\\n",
       "0          group     -       EB   SC  False        True  3.352181  14.0   \n",
       "1          model     -  non-sep  sep   True        True -5.693003  15.0   \n",
       "2  group * model    EB  non-sep  sep   True        True -6.610354   7.0   \n",
       "3  group * model    SC  non-sep  sep   True        True -2.955930   7.0   \n",
       "\n",
       "  alternative     p-unc    p-corr p-adjust     BF10    hedges  \n",
       "0   two-sided  0.004743       NaN      NaN    8.951  1.584667  \n",
       "1   two-sided  0.000043       NaN      NaN   606.59 -0.509044  \n",
       "2   two-sided  0.000301  0.000603     holm  110.002 -0.790787  \n",
       "3   two-sided  0.021227  0.021227     holm    3.637 -0.450429  "
      ]
     },
     "execution_count": 25,
     "metadata": {},
     "output_type": "execute_result"
    }
   ],
   "source": [
    "pg.pairwise_tests(dv='crosscorr', between='group', within='model', subject='sub', data=params3, \n",
    "                  padjust='holm', within_first=False)"
   ]
  },
  {
   "cell_type": "code",
   "execution_count": 26,
   "id": "8af8fac7",
   "metadata": {},
   "outputs": [
    {
     "data": {
      "text/html": [
       "<div>\n",
       "<style scoped>\n",
       "    .dataframe tbody tr th:only-of-type {\n",
       "        vertical-align: middle;\n",
       "    }\n",
       "\n",
       "    .dataframe tbody tr th {\n",
       "        vertical-align: top;\n",
       "    }\n",
       "\n",
       "    .dataframe thead th {\n",
       "        text-align: right;\n",
       "    }\n",
       "</style>\n",
       "<table border=\"1\" class=\"dataframe\">\n",
       "  <thead>\n",
       "    <tr style=\"text-align: right;\">\n",
       "      <th></th>\n",
       "      <th>sub</th>\n",
       "      <th>group</th>\n",
       "      <th>diff</th>\n",
       "    </tr>\n",
       "  </thead>\n",
       "  <tbody>\n",
       "    <tr>\n",
       "      <th>0</th>\n",
       "      <td>'EB_G_PPE_1959'</td>\n",
       "      <td>EB</td>\n",
       "      <td>0.003529</td>\n",
       "    </tr>\n",
       "    <tr>\n",
       "      <th>1</th>\n",
       "      <td>'EB_G_XF_1987'</td>\n",
       "      <td>EB</td>\n",
       "      <td>0.006384</td>\n",
       "    </tr>\n",
       "    <tr>\n",
       "      <th>2</th>\n",
       "      <td>'EB_G_KK_1979'</td>\n",
       "      <td>EB</td>\n",
       "      <td>0.011024</td>\n",
       "    </tr>\n",
       "    <tr>\n",
       "      <th>3</th>\n",
       "      <td>'EB_L_TA_1956'</td>\n",
       "      <td>EB</td>\n",
       "      <td>0.006713</td>\n",
       "    </tr>\n",
       "    <tr>\n",
       "      <th>4</th>\n",
       "      <td>'EB_G_YZ_1949'</td>\n",
       "      <td>EB</td>\n",
       "      <td>0.010769</td>\n",
       "    </tr>\n",
       "  </tbody>\n",
       "</table>\n",
       "</div>"
      ],
      "text/plain": [
       "               sub group      diff\n",
       "0  'EB_G_PPE_1959'    EB  0.003529\n",
       "1   'EB_G_XF_1987'    EB  0.006384\n",
       "2   'EB_G_KK_1979'    EB  0.011024\n",
       "3   'EB_L_TA_1956'    EB  0.006713\n",
       "4   'EB_G_YZ_1949'    EB  0.010769"
      ]
     },
     "execution_count": 26,
     "metadata": {},
     "output_type": "execute_result"
    }
   ],
   "source": [
    "datapath4 = '../../DataTables/ModelDiff.csv'\n",
    "params4 = pd.read_csv(datapath4)\n",
    "params4.head()"
   ]
  },
  {
   "cell_type": "code",
   "execution_count": 27,
   "id": "25ce9c7e",
   "metadata": {},
   "outputs": [
    {
     "name": "stderr",
     "output_type": "stream",
     "text": [
      "/Library/Frameworks/Python.framework/Versions/3.10/lib/python3.10/site-packages/seaborn/categorical.py:1733: UserWarning: You passed a edgecolor/edgecolors ([(0.0, 0.0, 0.0), (0.0, 0.0, 0.0)]) for an unfilled marker ('_').  Matplotlib is ignoring the edgecolor in favor of the facecolor.  This behavior may change in the future.\n",
      "  ax.scatter(x, y,\n"
     ]
    },
    {
     "data": {
      "text/plain": [
       "<Figure size 432x288 with 0 Axes>"
      ]
     },
     "metadata": {},
     "output_type": "display_data"
    },
    {
     "data": {
      "image/png": "[encoded data removed]",
      "text/plain": [
       "<Figure size 108x216 with 1 Axes>"
      ]
     },
     "metadata": {
      "needs_background": "light"
     },
     "output_type": "display_data"
    }
   ],
   "source": [
    "plt.figure(4)\n",
    "plt.figure(figsize=(1.5,3))\n",
    "plt.rcParams['font.family'] = \"Arial\"\n",
    "\n",
    "sns.stripplot(x=\"group\", y=\"diff\", data=params4, order=['SC','EB'],\n",
    "              palette=colorpalette, alpha=.75, zorder=1, edgecolor='white', linewidth=1, size=8.5, marker='o')\n",
    "sns.pointplot(x=\"group\", y=\"diff\", data=params4, color=\"0\", order=['SC','EB'], scale=2, markers='_',\n",
    "              errwidth=1, capsize=0.1, join=False, ci=68)\n",
    "plt.axhline(y=0, color=\".25\")\n",
    "\n",
    "plt.xticks([0, 1], ['Sighted', 'Early Blind'], fontsize=10, rotation=-30)\n",
    "plt.xlabel('');\n",
    "plt.yticks([0, 0.005, 0.01])\n",
    "plt.ylabel('Fit Diff (Sep - Non-Sep)');\n",
    "\n",
    "sns.despine()"
   ]
  }
 ],
 "metadata": {
  "kernelspec": {
   "display_name": "Python 3 (ipykernel)",
   "language": "python",
   "name": "python3"
  },
  "language_info": {
   "codemirror_mode": {
    "name": "ipython",
    "version": 3
   },
   "file_extension": ".py",
   "mimetype": "text/x-python",
   "name": "python",
   "nbconvert_exporter": "python",
   "pygments_lexer": "ipython3",
   "version": "3.10.5"
  }
 },
 "nbformat": 4,
 "nbformat_minor": 5
}
