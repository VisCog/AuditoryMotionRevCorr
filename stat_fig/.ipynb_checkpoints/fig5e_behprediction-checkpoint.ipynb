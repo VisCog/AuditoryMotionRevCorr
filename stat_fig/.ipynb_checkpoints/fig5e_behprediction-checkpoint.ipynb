{
 "cells": [
  {
   "cell_type": "code",
   "execution_count": 1,
   "id": "4544f49f-8126-43b2-9921-098dbb567ba8",
   "metadata": {},
   "outputs": [],
   "source": [
    "%matplotlib inline\n",
    "\n",
    "import numpy as np\n",
    "import pandas as pd\n",
    "import seaborn as sns\n",
    "import matplotlib.pyplot as plt\n",
    "import pingouin as pg\n",
    "import os \n",
    "import matplotlib\n",
    "matplotlib.rcParams['pdf.fonttype'] = 42\n",
    "matplotlib.rcParams['ps.fonttype'] = 42\n",
    "matplotlib.rcParams['font.family'] = \"Arial\""
   ]
  },
  {
   "cell_type": "code",
   "execution_count": 2,
   "id": "cc64413b-baa8-4896-a7c4-81c3cc136812",
   "metadata": {},
   "outputs": [],
   "source": [
    "path_remote = os.path.join('~', 'Dropbox', 'WoonJuPark', 'Projects', 'AuditoryMotionRF')\n",
    "path_datatable = os.path.join(path_remote, 'datatable')\n",
    "datapath = os.path.join(path_datatable, 'BehaviorPrediction.csv')\n",
    "data = pd.read_csv(datapath)"
   ]
  },
  {
   "cell_type": "code",
   "execution_count": 3,
   "id": "74e51ac4-5c19-4cbf-9894-14cda569546c",
   "metadata": {},
   "outputs": [],
   "source": [
    "dataEB = data[data['group']=='EB']\n",
    "dataSC = data[data['group']=='SC']"
   ]
  },
  {
   "cell_type": "markdown",
   "id": "535b20b2-db46-4d30-a4b8-d2c8efd75ed0",
   "metadata": {},
   "source": [
    "## figure"
   ]
  },
  {
   "cell_type": "code",
   "execution_count": 4,
   "id": "e923abc1-605d-422c-8f94-d77bdccfb03a",
   "metadata": {},
   "outputs": [
    {
     "data": {
      "image/png": "[encoded data removed]",
      "text/plain": [
       "<Figure size 120x120 with 1 Axes>"
      ]
     },
     "metadata": {},
     "output_type": "display_data"
    }
   ],
   "source": [
    "colorpalette=[\"seagreen\", \"rebeccapurple\"]\n",
    "mn = 2\n",
    "mx = 14\n",
    "points = np.linspace(mn, mx, 100)\n",
    "\n",
    "plt.figure(figsize=(1.2, 1.2))\n",
    "plt.gca().plot(points, points, color='k', marker=None, linestyle='-', linewidth=1.0)\n",
    "sns.regplot(data=dataSC, x='thresh', y='pred', color=colorpalette[0], ci=None, scatter=False)\n",
    "sns.regplot(data=dataEB, x='thresh', y='pred', color=colorpalette[1], ci=None, scatter=False)\n",
    "sns.scatterplot(data=data, x='thresh', y='pred', hue='group', alpha=.75, legend=False, s=45, palette=colorpalette, hue_order=['SC', 'EB'])\n",
    "\n",
    "plt.xlabel('Obs Thresh (dB)');\n",
    "plt.ylabel('Pred Thresh (dB)');\n",
    "\n",
    "sns.despine()\n",
    "\n",
    "plt.savefig('beh_prediction.pdf', dpi=300, transparent=True, bbox_inches=\"tight\")"
   ]
  },
  {
   "cell_type": "markdown",
   "id": "7907e2c4-cc02-4796-91fa-ba17ec89143a",
   "metadata": {},
   "source": [
    "## correlation"
   ]
  },
  {
   "cell_type": "code",
   "execution_count": 5,
   "id": "a8c55bbb-9bf7-4d97-9904-b8c6dc9ade1c",
   "metadata": {},
   "outputs": [
    {
     "data": {
      "text/html": [
       "<div>\n",
       "<style scoped>\n",
       "    .dataframe tbody tr th:only-of-type {\n",
       "        vertical-align: middle;\n",
       "    }\n",
       "\n",
       "    .dataframe tbody tr th {\n",
       "        vertical-align: top;\n",
       "    }\n",
       "\n",
       "    .dataframe thead th {\n",
       "        text-align: right;\n",
       "    }\n",
       "</style>\n",
       "<table border=\"1\" class=\"dataframe\">\n",
       "  <thead>\n",
       "    <tr style=\"text-align: right;\">\n",
       "      <th></th>\n",
       "      <th>n</th>\n",
       "      <th>r</th>\n",
       "      <th>CI95%</th>\n",
       "      <th>p-val</th>\n",
       "      <th>BF10</th>\n",
       "      <th>power</th>\n",
       "    </tr>\n",
       "  </thead>\n",
       "  <tbody>\n",
       "    <tr>\n",
       "      <th>pearson</th>\n",
       "      <td>8</td>\n",
       "      <td>0.888723</td>\n",
       "      <td>[0.49, 0.98]</td>\n",
       "      <td>0.003164</td>\n",
       "      <td>15.999</td>\n",
       "      <td>0.909661</td>\n",
       "    </tr>\n",
       "  </tbody>\n",
       "</table>\n",
       "</div>"
      ],
      "text/plain": [
       "         n         r         CI95%     p-val    BF10     power\n",
       "pearson  8  0.888723  [0.49, 0.98]  0.003164  15.999  0.909661"
      ]
     },
     "execution_count": 5,
     "metadata": {},
     "output_type": "execute_result"
    }
   ],
   "source": [
    "pg.corr(x=dataEB['thresh'],y=dataEB['pred'])"
   ]
  },
  {
   "cell_type": "code",
   "execution_count": 6,
   "id": "bbccb8ed-df52-4138-b6c8-a6ea68a36f4a",
   "metadata": {},
   "outputs": [
    {
     "data": {
      "text/html": [
       "<div>\n",
       "<style scoped>\n",
       "    .dataframe tbody tr th:only-of-type {\n",
       "        vertical-align: middle;\n",
       "    }\n",
       "\n",
       "    .dataframe tbody tr th {\n",
       "        vertical-align: top;\n",
       "    }\n",
       "\n",
       "    .dataframe thead th {\n",
       "        text-align: right;\n",
       "    }\n",
       "</style>\n",
       "<table border=\"1\" class=\"dataframe\">\n",
       "  <thead>\n",
       "    <tr style=\"text-align: right;\">\n",
       "      <th></th>\n",
       "      <th>n</th>\n",
       "      <th>r</th>\n",
       "      <th>CI95%</th>\n",
       "      <th>p-val</th>\n",
       "      <th>BF10</th>\n",
       "      <th>power</th>\n",
       "    </tr>\n",
       "  </thead>\n",
       "  <tbody>\n",
       "    <tr>\n",
       "      <th>pearson</th>\n",
       "      <td>8</td>\n",
       "      <td>0.407876</td>\n",
       "      <td>[-0.42, 0.86]</td>\n",
       "      <td>0.315819</td>\n",
       "      <td>0.669</td>\n",
       "      <td>0.176065</td>\n",
       "    </tr>\n",
       "  </tbody>\n",
       "</table>\n",
       "</div>"
      ],
      "text/plain": [
       "         n         r          CI95%     p-val   BF10     power\n",
       "pearson  8  0.407876  [-0.42, 0.86]  0.315819  0.669  0.176065"
      ]
     },
     "execution_count": 6,
     "metadata": {},
     "output_type": "execute_result"
    }
   ],
   "source": [
    "pg.corr(x=dataSC['thresh'],y=dataSC['pred'])"
   ]
  },
  {
   "cell_type": "markdown",
   "id": "28147e11-9ac0-463a-93ce-8e9841f416ad",
   "metadata": {},
   "source": [
    "## group difference"
   ]
  },
  {
   "cell_type": "code",
   "execution_count": 7,
   "id": "8bff5ec7-2057-4e2a-882f-6c5e6692e792",
   "metadata": {},
   "outputs": [
    {
     "data": {
      "text/html": [
       "<div>\n",
       "<style scoped>\n",
       "    .dataframe tbody tr th:only-of-type {\n",
       "        vertical-align: middle;\n",
       "    }\n",
       "\n",
       "    .dataframe tbody tr th {\n",
       "        vertical-align: top;\n",
       "    }\n",
       "\n",
       "    .dataframe thead th {\n",
       "        text-align: right;\n",
       "    }\n",
       "</style>\n",
       "<table border=\"1\" class=\"dataframe\">\n",
       "  <thead>\n",
       "    <tr style=\"text-align: right;\">\n",
       "      <th></th>\n",
       "      <th>T</th>\n",
       "      <th>dof</th>\n",
       "      <th>alternative</th>\n",
       "      <th>p-val</th>\n",
       "      <th>CI95%</th>\n",
       "      <th>cohen-d</th>\n",
       "      <th>BF10</th>\n",
       "      <th>power</th>\n",
       "    </tr>\n",
       "  </thead>\n",
       "  <tbody>\n",
       "    <tr>\n",
       "      <th>T-test</th>\n",
       "      <td>-3.670468</td>\n",
       "      <td>14</td>\n",
       "      <td>two-sided</td>\n",
       "      <td>0.002521</td>\n",
       "      <td>[-5.48, -1.44]</td>\n",
       "      <td>1.835234</td>\n",
       "      <td>14.365</td>\n",
       "      <td>0.926347</td>\n",
       "    </tr>\n",
       "  </tbody>\n",
       "</table>\n",
       "</div>"
      ],
      "text/plain": [
       "               T  dof alternative     p-val           CI95%   cohen-d    BF10  \\\n",
       "T-test -3.670468   14   two-sided  0.002521  [-5.48, -1.44]  1.835234  14.365   \n",
       "\n",
       "           power  \n",
       "T-test  0.926347  "
      ]
     },
     "execution_count": 7,
     "metadata": {},
     "output_type": "execute_result"
    }
   ],
   "source": [
    "pg.ttest(x=dataEB['pred'], y=dataSC['pred'])"
   ]
  },
  {
   "cell_type": "code",
   "execution_count": null,
   "id": "58e5dccb-9e16-4653-a5c4-d296c39d9ea7",
   "metadata": {},
   "outputs": [],
   "source": []
  }
 ],
 "metadata": {
  "kernelspec": {
   "display_name": "Python 3 (ipykernel)",
   "language": "python",
   "name": "python3"
  },
  "language_info": {
   "codemirror_mode": {
    "name": "ipython",
    "version": 3
   },
   "file_extension": ".py",
   "mimetype": "text/x-python",
   "name": "python",
   "nbconvert_exporter": "python",
   "pygments_lexer": "ipython3",
   "version": "3.11.4"
  }
 },
 "nbformat": 4,
 "nbformat_minor": 5
}
