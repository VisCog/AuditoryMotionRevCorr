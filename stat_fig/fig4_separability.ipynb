{
 "cells": [
  {
   "cell_type": "code",
   "execution_count": 1,
   "id": "2d7cc62b",
   "metadata": {},
   "outputs": [],
   "source": [
    "%matplotlib inline\n",
    "\n",
    "import numpy as np\n",
    "import pandas as pd\n",
    "import seaborn as sns\n",
    "import matplotlib.pyplot as plt\n",
    "import pingouin as pg\n",
    "import os \n",
    "import matplotlib\n",
    "matplotlib.rcParams['pdf.fonttype'] = 42\n",
    "matplotlib.rcParams['ps.fonttype'] = 42\n",
    "matplotlib.rcParams['font.family'] = \"Arial\""
   ]
  },
  {
   "cell_type": "markdown",
   "id": "d504f456",
   "metadata": {},
   "source": [
    "# Trig Surface Model "
   ]
  },
  {
   "cell_type": "code",
   "execution_count": 2,
   "id": "cfcd7401",
   "metadata": {},
   "outputs": [],
   "source": [
    "# load data\n",
    "path_remote = os.path.join('~', 'Dropbox', 'WoonJuPark', 'Projects', 'AuditoryMotionRF')\n",
    "path_datatable = os.path.join(path_remote, 'datatable')\n",
    "datapath_a = os.path.join(path_datatable, 'Separability_params.csv')\n",
    "params_a = pd.read_csv(datapath_a)"
   ]
  },
  {
   "cell_type": "code",
   "execution_count": 3,
   "id": "16fb6b11",
   "metadata": {},
   "outputs": [],
   "source": [
    "# choose colors\n",
    "colorpalette = [\"seagreen\", \"rebeccapurple\"]"
   ]
  },
  {
   "cell_type": "code",
   "execution_count": 4,
   "id": "289f6692",
   "metadata": {},
   "outputs": [
    {
     "name": "stderr",
     "output_type": "stream",
     "text": [
      "/var/folders/dm/rs68_nt90vvg9gxchlf5zjqc0000gn/T/ipykernel_8315/2718871500.py:8: FutureWarning: Passing `palette` without assigning `hue` is deprecated.\n",
      "  sns.stripplot(x=\"group\", y='Surf-a', data=params_a, order=[\"SC\",\"EB\"], alpha=.75, palette=colorpalette,\n",
      "/var/folders/dm/rs68_nt90vvg9gxchlf5zjqc0000gn/T/ipykernel_8315/2718871500.py:10: FutureWarning: \n",
      "\n",
      "The `ci` parameter is deprecated. Use `errorbar=('ci', 68)` for the same effect.\n",
      "\n",
      "  sns.pointplot(x=\"group\", y=\"Surf-a\", data=params_a, order=[\"SC\",\"EB\"], join=False, color=\"0\", ci=68,\n",
      "/opt/homebrew/Cellar/jupyterlab/4.0.5/libexec/lib/python3.11/site-packages/seaborn/categorical.py:1680: UserWarning: You passed a edgecolor/edgecolors ([(0.0, 0.0, 0.0), (0.0, 0.0, 0.0)]) for an unfilled marker ('_').  Matplotlib is ignoring the edgecolor in favor of the facecolor.  This behavior may change in the future.\n",
      "  ax.scatter(x, y,\n"
     ]
    },
    {
     "data": {
      "text/plain": [
       "<Figure size 640x480 with 0 Axes>"
      ]
     },
     "metadata": {},
     "output_type": "display_data"
    },
    {
     "data": {
      "image/png": "[encoded data removed]",
      "text/plain": [
       "<Figure size 150x200 with 1 Axes>"
      ]
     },
     "metadata": {},
     "output_type": "display_data"
    }
   ],
   "source": [
    "# plot\n",
    "plt.figure(1)\n",
    "plt.figure(figsize=(1.5,2))\n",
    "plt.rcParams['font.family'] = \"Arial\"\n",
    "\n",
    "plt.axhline(y=0, color=\".25\")\n",
    "plt.axhline(y=1, color=\".25\")\n",
    "sns.stripplot(x=\"group\", y='Surf-a', data=params_a, order=[\"SC\",\"EB\"], alpha=.75, palette=colorpalette,\n",
    "             edgecolor='white', linewidth=1, size=8.5, marker='o', zorder=1)\n",
    "sns.pointplot(x=\"group\", y=\"Surf-a\", data=params_a, order=[\"SC\",\"EB\"], join=False, color=\"0\", ci=68, \n",
    "             scale=2, markers='_', errwidth=1, capsize=0.1)\n",
    "\n",
    "plt.ylabel('Separability (a)', fontsize=10);\n",
    "plt.xlabel('');\n",
    "plt.xticks([0, 1], ['Sighted', 'Early Blind'], fontsize=10, rotation=-30)\n",
    "plt.yticks([0, 0.5, 1])\n",
    "\n",
    "sns.despine()\n",
    "\n",
    "plt.savefig('separability-a.pdf', dpi=300, transparent=True, bbox_inches=\"tight\")"
   ]
  },
  {
   "cell_type": "code",
   "execution_count": 5,
   "id": "d66c22bc",
   "metadata": {},
   "outputs": [
    {
     "data": {
      "text/html": [
       "<div>\n",
       "<style scoped>\n",
       "    .dataframe tbody tr th:only-of-type {\n",
       "        vertical-align: middle;\n",
       "    }\n",
       "\n",
       "    .dataframe tbody tr th {\n",
       "        vertical-align: top;\n",
       "    }\n",
       "\n",
       "    .dataframe thead th {\n",
       "        text-align: right;\n",
       "    }\n",
       "</style>\n",
       "<table border=\"1\" class=\"dataframe\">\n",
       "  <thead>\n",
       "    <tr style=\"text-align: right;\">\n",
       "      <th></th>\n",
       "      <th>U-val</th>\n",
       "      <th>alternative</th>\n",
       "      <th>p-val</th>\n",
       "      <th>RBC</th>\n",
       "      <th>CLES</th>\n",
       "    </tr>\n",
       "  </thead>\n",
       "  <tbody>\n",
       "    <tr>\n",
       "      <th>MWU</th>\n",
       "      <td>40.0</td>\n",
       "      <td>two-sided</td>\n",
       "      <td>0.441803</td>\n",
       "      <td>-0.25</td>\n",
       "      <td>0.625</td>\n",
       "    </tr>\n",
       "  </tbody>\n",
       "</table>\n",
       "</div>"
      ],
      "text/plain": [
       "     U-val alternative     p-val   RBC   CLES\n",
       "MWU   40.0   two-sided  0.441803 -0.25  0.625"
      ]
     },
     "execution_count": 5,
     "metadata": {},
     "output_type": "execute_result"
    }
   ],
   "source": [
    "# stats\n",
    "params_a_EB=params_a[params_a[\"group\"]==\"EB\"]\n",
    "params_a_SC=params_a[params_a[\"group\"]==\"SC\"]\n",
    "pg.mwu(x=params_a_EB['Surf-a'], y=params_a_SC['Surf-a'])"
   ]
  },
  {
   "cell_type": "markdown",
   "id": "f5469489",
   "metadata": {},
   "source": [
    "# Separable (a = 0) vs Non-separable (a = 1) "
   ]
  },
  {
   "cell_type": "code",
   "execution_count": 6,
   "id": "1a96b1dc-da61-4a2c-ada0-6a410dacc2fc",
   "metadata": {},
   "outputs": [],
   "source": [
    "# load data for model comparison \n",
    "datapath_comp = os.path.join(path_datatable, 'ModelComparison.csv')\n",
    "params_comp = pd.read_csv(datapath_comp)"
   ]
  },
  {
   "cell_type": "code",
   "execution_count": 7,
   "id": "1492c0fe",
   "metadata": {},
   "outputs": [
    {
     "data": {
      "text/html": [
       "<div>\n",
       "<style scoped>\n",
       "    .dataframe tbody tr th:only-of-type {\n",
       "        vertical-align: middle;\n",
       "    }\n",
       "\n",
       "    .dataframe tbody tr th {\n",
       "        vertical-align: top;\n",
       "    }\n",
       "\n",
       "    .dataframe thead th {\n",
       "        text-align: right;\n",
       "    }\n",
       "</style>\n",
       "<table border=\"1\" class=\"dataframe\">\n",
       "  <thead>\n",
       "    <tr style=\"text-align: right;\">\n",
       "      <th></th>\n",
       "      <th>Source</th>\n",
       "      <th>SS</th>\n",
       "      <th>DF1</th>\n",
       "      <th>DF2</th>\n",
       "      <th>MS</th>\n",
       "      <th>F</th>\n",
       "      <th>p-unc</th>\n",
       "      <th>np2</th>\n",
       "      <th>eps</th>\n",
       "    </tr>\n",
       "  </thead>\n",
       "  <tbody>\n",
       "    <tr>\n",
       "      <th>0</th>\n",
       "      <td>group</td>\n",
       "      <td>0.001537</td>\n",
       "      <td>1</td>\n",
       "      <td>14</td>\n",
       "      <td>0.001537</td>\n",
       "      <td>11.237115</td>\n",
       "      <td>0.004743</td>\n",
       "      <td>0.445261</td>\n",
       "      <td>NaN</td>\n",
       "    </tr>\n",
       "    <tr>\n",
       "      <th>1</th>\n",
       "      <td>model</td>\n",
       "      <td>0.000260</td>\n",
       "      <td>1</td>\n",
       "      <td>14</td>\n",
       "      <td>0.000260</td>\n",
       "      <td>46.597846</td>\n",
       "      <td>0.000008</td>\n",
       "      <td>0.768969</td>\n",
       "      <td>1.0</td>\n",
       "    </tr>\n",
       "    <tr>\n",
       "      <th>2</th>\n",
       "      <td>Interaction</td>\n",
       "      <td>0.000042</td>\n",
       "      <td>1</td>\n",
       "      <td>14</td>\n",
       "      <td>0.000042</td>\n",
       "      <td>7.566231</td>\n",
       "      <td>0.015624</td>\n",
       "      <td>0.350837</td>\n",
       "      <td>NaN</td>\n",
       "    </tr>\n",
       "  </tbody>\n",
       "</table>\n",
       "</div>"
      ],
      "text/plain": [
       "        Source        SS  DF1  DF2        MS          F     p-unc       np2  \\\n",
       "0        group  0.001537    1   14  0.001537  11.237115  0.004743  0.445261   \n",
       "1        model  0.000260    1   14  0.000260  46.597846  0.000008  0.768969   \n",
       "2  Interaction  0.000042    1   14  0.000042   7.566231  0.015624  0.350837   \n",
       "\n",
       "   eps  \n",
       "0  NaN  \n",
       "1  1.0  \n",
       "2  NaN  "
      ]
     },
     "execution_count": 7,
     "metadata": {},
     "output_type": "execute_result"
    }
   ],
   "source": [
    "# stats\n",
    "pg.mixed_anova(dv='crosscorr', within='model', between='group', subject='sub', data=params_comp)"
   ]
  },
  {
   "cell_type": "code",
   "execution_count": 8,
   "id": "7b71a76f",
   "metadata": {},
   "outputs": [
    {
     "name": "stderr",
     "output_type": "stream",
     "text": [
      "/opt/homebrew/Cellar/jupyterlab/4.0.5/libexec/lib/python3.11/site-packages/pingouin/pairwise.py:478: FutureWarning: The default value of numeric_only in DataFrameGroupBy.mean is deprecated. In a future version, numeric_only will default to False. Either specify numeric_only or select only columns which should be valid for the function.\n",
      "  tmp = data.groupby([subject, f], as_index=False, observed=True, sort=True).mean()\n"
     ]
    },
    {
     "data": {
      "text/html": [
       "<div>\n",
       "<style scoped>\n",
       "    .dataframe tbody tr th:only-of-type {\n",
       "        vertical-align: middle;\n",
       "    }\n",
       "\n",
       "    .dataframe tbody tr th {\n",
       "        vertical-align: top;\n",
       "    }\n",
       "\n",
       "    .dataframe thead th {\n",
       "        text-align: right;\n",
       "    }\n",
       "</style>\n",
       "<table border=\"1\" class=\"dataframe\">\n",
       "  <thead>\n",
       "    <tr style=\"text-align: right;\">\n",
       "      <th></th>\n",
       "      <th>Contrast</th>\n",
       "      <th>group</th>\n",
       "      <th>A</th>\n",
       "      <th>B</th>\n",
       "      <th>Paired</th>\n",
       "      <th>Parametric</th>\n",
       "      <th>T</th>\n",
       "      <th>dof</th>\n",
       "      <th>alternative</th>\n",
       "      <th>p-unc</th>\n",
       "      <th>p-corr</th>\n",
       "      <th>p-adjust</th>\n",
       "      <th>BF10</th>\n",
       "      <th>hedges</th>\n",
       "    </tr>\n",
       "  </thead>\n",
       "  <tbody>\n",
       "    <tr>\n",
       "      <th>0</th>\n",
       "      <td>group</td>\n",
       "      <td>-</td>\n",
       "      <td>EB</td>\n",
       "      <td>SC</td>\n",
       "      <td>False</td>\n",
       "      <td>True</td>\n",
       "      <td>3.352181</td>\n",
       "      <td>14.0</td>\n",
       "      <td>two-sided</td>\n",
       "      <td>0.004743</td>\n",
       "      <td>NaN</td>\n",
       "      <td>NaN</td>\n",
       "      <td>8.951</td>\n",
       "      <td>1.584667</td>\n",
       "    </tr>\n",
       "    <tr>\n",
       "      <th>1</th>\n",
       "      <td>model</td>\n",
       "      <td>-</td>\n",
       "      <td>non-sep</td>\n",
       "      <td>sep</td>\n",
       "      <td>True</td>\n",
       "      <td>True</td>\n",
       "      <td>-5.693003</td>\n",
       "      <td>15.0</td>\n",
       "      <td>two-sided</td>\n",
       "      <td>0.000043</td>\n",
       "      <td>NaN</td>\n",
       "      <td>NaN</td>\n",
       "      <td>606.59</td>\n",
       "      <td>-0.509044</td>\n",
       "    </tr>\n",
       "    <tr>\n",
       "      <th>2</th>\n",
       "      <td>group * model</td>\n",
       "      <td>EB</td>\n",
       "      <td>non-sep</td>\n",
       "      <td>sep</td>\n",
       "      <td>True</td>\n",
       "      <td>True</td>\n",
       "      <td>-6.610354</td>\n",
       "      <td>7.0</td>\n",
       "      <td>two-sided</td>\n",
       "      <td>0.000301</td>\n",
       "      <td>0.000603</td>\n",
       "      <td>holm</td>\n",
       "      <td>110.002</td>\n",
       "      <td>-0.790787</td>\n",
       "    </tr>\n",
       "    <tr>\n",
       "      <th>3</th>\n",
       "      <td>group * model</td>\n",
       "      <td>SC</td>\n",
       "      <td>non-sep</td>\n",
       "      <td>sep</td>\n",
       "      <td>True</td>\n",
       "      <td>True</td>\n",
       "      <td>-2.955930</td>\n",
       "      <td>7.0</td>\n",
       "      <td>two-sided</td>\n",
       "      <td>0.021227</td>\n",
       "      <td>0.021227</td>\n",
       "      <td>holm</td>\n",
       "      <td>3.637</td>\n",
       "      <td>-0.450429</td>\n",
       "    </tr>\n",
       "  </tbody>\n",
       "</table>\n",
       "</div>"
      ],
      "text/plain": [
       "        Contrast group        A    B Paired  Parametric         T   dof  \\\n",
       "0          group     -       EB   SC  False        True  3.352181  14.0   \n",
       "1          model     -  non-sep  sep   True        True -5.693003  15.0   \n",
       "2  group * model    EB  non-sep  sep   True        True -6.610354   7.0   \n",
       "3  group * model    SC  non-sep  sep   True        True -2.955930   7.0   \n",
       "\n",
       "  alternative     p-unc    p-corr p-adjust     BF10    hedges  \n",
       "0   two-sided  0.004743       NaN      NaN    8.951  1.584667  \n",
       "1   two-sided  0.000043       NaN      NaN   606.59 -0.509044  \n",
       "2   two-sided  0.000301  0.000603     holm  110.002 -0.790787  \n",
       "3   two-sided  0.021227  0.021227     holm    3.637 -0.450429  "
      ]
     },
     "execution_count": 8,
     "metadata": {},
     "output_type": "execute_result"
    }
   ],
   "source": [
    "pg.pairwise_tests(dv='crosscorr', between='group', within='model', subject='sub', data=params_comp, \n",
    "                  padjust='holm', within_first=False)"
   ]
  },
  {
   "cell_type": "code",
   "execution_count": 9,
   "id": "8af8fac7",
   "metadata": {},
   "outputs": [],
   "source": [
    "# load data for model fit difference\n",
    "datapath_diff = os.path.join(path_datatable, 'ModelDiff.csv')\n",
    "params_diff = pd.read_csv(datapath_diff)"
   ]
  },
  {
   "cell_type": "code",
   "execution_count": 10,
   "id": "25ce9c7e",
   "metadata": {},
   "outputs": [
    {
     "name": "stderr",
     "output_type": "stream",
     "text": [
      "/var/folders/dm/rs68_nt90vvg9gxchlf5zjqc0000gn/T/ipykernel_8315/640323073.py:6: FutureWarning: Passing `palette` without assigning `hue` is deprecated.\n",
      "  sns.stripplot(x=\"group\", y=\"diff\", data=params_diff, order=['SC','EB'],\n",
      "/opt/homebrew/Cellar/jupyterlab/4.0.5/libexec/lib/python3.11/site-packages/seaborn/categorical.py:1680: UserWarning: You passed a edgecolor/edgecolors ([(0.0, 0.0, 0.0), (0.0, 0.0, 0.0)]) for an unfilled marker ('_').  Matplotlib is ignoring the edgecolor in favor of the facecolor.  This behavior may change in the future.\n",
      "  ax.scatter(x, y,\n"
     ]
    },
    {
     "data": {
      "text/plain": [
       "<Figure size 640x480 with 0 Axes>"
      ]
     },
     "metadata": {},
     "output_type": "display_data"
    },
    {
     "data": {
      "image/png": "[encoded data removed]",
      "text/plain": [
       "<Figure size 150x200 with 1 Axes>"
      ]
     },
     "metadata": {},
     "output_type": "display_data"
    }
   ],
   "source": [
    "# plot\n",
    "plt.figure(2)\n",
    "plt.figure(figsize=(1.5,2))\n",
    "plt.rcParams['font.family'] = \"Arial\"\n",
    "\n",
    "sns.stripplot(x=\"group\", y=\"diff\", data=params_diff, order=['SC','EB'], \n",
    "              palette=colorpalette, alpha=.75, zorder=1, edgecolor='white', linewidth=1, size=8.5, marker='o')\n",
    "sns.pointplot(x=\"group\", y=\"diff\", data=params_diff, color=\"0\", order=['SC','EB'], scale=2, markers='_',\n",
    "              errwidth=1, capsize=0.1, join=False, errorbar=('ci', 68))\n",
    "plt.axhline(y=0, color=\".25\")\n",
    "\n",
    "plt.xticks([0, 1], ['Sighted', 'Early Blind'], fontsize=10, rotation=-30)\n",
    "plt.xlabel('');\n",
    "plt.yticks([0, 0.005, 0.01])\n",
    "plt.ylabel('Fit Diff (Sep - Non-Sep)');\n",
    "\n",
    "sns.despine()\n",
    "plt.savefig('separability-fitdiff.pdf', dpi=300, transparent=True, bbox_inches=\"tight\")"
   ]
  },
  {
   "cell_type": "code",
   "execution_count": null,
   "id": "d4c4012a-0704-4be7-9785-2043cdf34e61",
   "metadata": {},
   "outputs": [],
   "source": []
  }
 ],
 "metadata": {
  "kernelspec": {
   "display_name": "Python 3 (ipykernel)",
   "language": "python",
   "name": "python3"
  },
  "language_info": {
   "codemirror_mode": {
    "name": "ipython",
    "version": 3
   },
   "file_extension": ".py",
   "mimetype": "text/x-python",
   "name": "python",
   "nbconvert_exporter": "python",
   "pygments_lexer": "ipython3",
   "version": "3.11.4"
  }
 },
 "nbformat": 4,
 "nbformat_minor": 5
}
