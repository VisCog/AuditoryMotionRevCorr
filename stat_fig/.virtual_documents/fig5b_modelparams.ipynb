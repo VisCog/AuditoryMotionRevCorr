%matplotlib inline

import numpy as np
import pandas as pd
import seaborn as sns
import matplotlib.pyplot as plt
import pingouin as pg
import os
import matplotlib
matplotlib.rcParams['pdf.fonttype'] = 42
matplotlib.rcParams['ps.fonttype'] = 42
matplotlib.rcParams['font.family'] = "Arial"


path_remote = os.path.join('~', 'Dropbox', 'WoonJuPark', 'Projects', 'AuditoryMotionRF')
path_datatable = os.path.join(path_remote, 'datatable')
datapath = os.path.join(path_datatable, 'STModel.csv')
params = pd.read_csv(datapath)
params.head()





nparams = 5;
keys = params.keys()
keys


colorpalette = ["rebeccapurple", "seagreen"]
onset = [15, 0.15]
stimonset = [30, 0]


f, axs = plt.subplots(1,nparams)
f.set_size_inches(9, 1.2)
plt.subplots_adjust(wspace=1., hspace=1)
plt.rcParams['font.family'] = "Arial"

titles = ['Gain', 'Space-Center', 'Space-Width', 'Time-Center', 'Time-Width']
xlim = -0.75
dx = -0.1
width_space = 3.5
width_time = 0.05
arrow_base_x = -0.4
pltidx = 0
head_length = 0.2

for idx in [1,2,3,4,0]:

    thiskey = keys[idx+2]    
    
    plt.subplot(1,nparams,pltidx+1)
    if idx == 3:
        plt.arrow(x=arrow_base_x, y=onset[1], dx=dx, dy=0, width=width_time, head_length=head_length, head_width=width_time, facecolor='yellow')
        plt.arrow(x=arrow_base_x, y=stimonset[1], dx=dx, dy=0, width=width_time, head_length=head_length, head_width=width_time, facecolor='gray')
    elif idx == 1:
        plt.arrow(x=arrow_base_x, y=onset[0], dx=dx, dy=0, width=width_space, head_length=head_length, head_width=width_space, facecolor='yellow')
        plt.arrow(x=arrow_base_x, y=stimonset[0], dx=dx, dy=0, width=width_space, head_length=head_length, head_width=width_space, facecolor='gray')
    
    sns.stripplot(x="group", y=thiskey, data=params, ax=axs[pltidx], hue='group', order=["SC","EB"], alpha=.75, palette=colorpalette,
             edgecolor='white', linewidth=0.5, size=7, marker='o', zorder=1, legend=False)
    sns.pointplot(x="group", y=thiskey, data=params, ax=axs[pltidx], order=["SC","EB"], errorbar=('ci', 68), 
                 color="0", join=False, scale=2, markers='_', errwidth=1, capsize=0.1)
    axs[pltidx].set(ylabel=None)
    axs[pltidx].set(xlabel=None)
    
    plt.xlabel('');
    plt.xticks([0, 1], ['Sighted', 'Early Blind'], rotation=-45, fontsize=10)
    plt.xlim(xlim, 1+(-1)*xlim)
    plt.title(titles[idx])
    
    if idx == 3: # time - center
        plt.yticks([-0.1, 0.1, 0.3, 0.5])
        plt.ylabel('Time (s)');
    elif idx == 1: # space - center
        plt.yticks([0, 20, 40])
        plt.ylabel('Space (deg)');
    elif idx == 2: # space - width
        plt.yticks([0, 20, 40])
        plt.ylabel('Space (deg)');
    elif idx == 4: # time - width
        plt.yticks([0, 0.2, 0.4, 0.6])
        plt.ylabel('Time (s)');
    elif idx == 0: # amp
        plt.yticks([0, 0.05, 0.1])
        plt.ylabel('Gain (a.u.)')

    sns.despine()
    
    pltidx = pltidx + 1

plt.savefig('modelparams.pdf', dpi=300, transparent=True, bbox_inches="tight")





results = [None] * nparams
for idx in range(nparams):
    thiskey = keys[idx+2]
    x = params.loc[params["group"]=="EB"][thiskey]
    y = params.loc[params["group"]=="SC"][thiskey]
    results[idx] = pg.ttest(x,y)


results[0]


results[1]


results[2]


results[3]


results[4]



