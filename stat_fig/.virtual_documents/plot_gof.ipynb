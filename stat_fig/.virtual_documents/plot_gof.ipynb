import numpy as np
import pandas as pd
import seaborn as sns
import matplotlib.pyplot as plt
import os
import matplotlib
matplotlib.rcParams['pdf.fonttype'] = 42
matplotlib.rcParams['ps.fonttype'] = 42
matplotlib.rcParams['font.family'] = "Arial"


path_remote = os.path.join('~', 'Dropbox', 'WoonJuPark', 'Projects', 'AuditoryMotionRF')
path_datatable = os.path.join(path_remote, 'datatable')
datapath = os.path.join(path_datatable, 'gof.csv')
data = pd.read_csv(datapath)
data.head()


data_EB = data[data['group']=='EB']
data_SC = data[data['group']=='SC']
data_SC.head()


f, axs = plt.subplots(1,2,sharey=True)
f.set_size_inches(2.8, 1.2)

mn = -0.05
mx = 0.05
points = np.linspace(mn, mx, 100)

palette1 = "seagreen"
palette2 = "rebeccapurple"

sns.scatterplot(data=data_SC, x='obs', y='pred', hue=None, ax=axs[0], legend=False, size=0.5, alpha=.2, facecolor=palette1)
sns.regplot(data=data_SC, x='obs', y='pred', scatter=False, ax=axs[0], color='grey')
sns.scatterplot(data=data_EB, x='obs', y='pred', hue=None, ax=axs[1], legend=False, size=0.5, alpha=.2, facecolor=palette2)
sns.regplot(data=data_EB, x='obs', y='pred', scatter=False, ax=axs[1], color='grey')
axs[0].plot(points, points, color='k', marker=None, linestyle='-', linewidth=1.0)
axs[1].plot(points, points, color='k', marker=None, linestyle='-', linewidth=1.0)
sns.despine()

plt.subplot(1,2,1)
plt.ylabel('Pred Filter');
plt.xlabel('Obs Filter');
plt.xticks([-0.05, 0.05])
plt.yticks([-0.05, 0.05])
plt.title('Sighted')

plt.subplot(1,2,2)
plt.ylabel('Pred Filter');
plt.xlabel('Obs Filter');
plt.xticks([-0.05, 0.05])
plt.yticks([-0.05, 0.05])
plt.title('Early Blind')

plt.savefig('gof.pdf', dpi=300, transparent=True, bbox_inches="tight")



