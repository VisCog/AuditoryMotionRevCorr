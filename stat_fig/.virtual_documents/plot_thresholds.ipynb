%matplotlib inline

import numpy as np
import pandas as pd
import seaborn as sns
import os
import matplotlib.pyplot as plt
import matplotlib
matplotlib.rcParams['pdf.fonttype'] = 42
matplotlib.rcParams['ps.fonttype'] = 42
matplotlib.rcParams['font.family'] = "Arial"


path_remote = os.path.join('~', 'Dropbox', 'WoonJuPark', 'Projects', 'AuditoryMotionRF')
path_datatable = os.path.join(path_remote, 'datatable')
datapath = os.path.join(path_datatable, 'Thresholds.csv')
thresholds = pd.read_csv(datapath)
thresholds.head()


def mag2db( factor ):
    import numpy as np
    mag = 20 * np.log10(factor)
    return mag


thresholds[['AvgAlldb','AvgLastdb']] = mag2db(thresholds[['AvgAll', 'AvgLast']]) - mag2db(0.5)
thresholds.head()





colorpalette = ["seagreen", "rebeccapurple"]


f, axs = plt.subplots(1,2,sharey=True)

f.set_size_inches(3, 2)

axs[0].axhline(y=0, color=".25")
sns.stripplot(x="group", y="AvgAlldb", data=thresholds, order=["SC","EB"], alpha=.75, ax=axs[0], palette=colorpalette,
             edgecolor='white', linewidth=1, size=8.5, zorder=1, marker='o')
sns.pointplot(x="group", y="AvgAlldb", data=thresholds, order=["SC","EB"], errorbar=('ci', 68), scale=2, markers='_',
              errwidth=1, capsize=0.3, color='0', join=False, ax=axs[0])

plt.subplot(1,2,1)
plt.ylabel('Threshold (dB)', fontsize=10);
plt.xlabel('');
plt.xticks([0, 1], ['Sighted', 'Early Blind'], rotation=-30)
plt.yticks([0, 5, 10], ['0', '5', '10'])
plt.title('All Trials')

axs[1].axhline(y=0, color=".25")
sns.stripplot(x="group", y="AvgLastdb", data=thresholds, order=["SC","EB"], alpha=.75, ax=axs[1], palette=colorpalette,
             edgecolor='white', linewidth=1, size=8.5, zorder=1, marker='o')
sns.pointplot(x="group", y="AvgLastdb", data=thresholds, order=["SC","EB"], errorbar=('ci', 68), scale=2, markers='_',
              errwidth=1, capsize=0.3, color="0", join=False, ax=axs[1])

plt.subplot(1,2,2)
plt.ylabel('');
plt.xlabel('');
plt.xticks([0, 1], ['Sighted', 'Early Blind'], rotation=-30)
plt.yticks([0, 5, 10], ['0', '5', '10'])
plt.title('Last Session')

sns.despine()

plt.savefig('thresholds.pdf', dpi=300, transparent=True, bbox_inches="tight")



datapath_long = os.path.join(path_datatable, 'Thresholds_long.csv')
thresholds_long = pd.read_csv(datapath_long)
thresholds_long.head()


thresholds_long['db'] = mag2db(thresholds_long['threshold']) - mag2db(0.5)
thresholds_long.head()


f = plt.figure()
f.set_size_inches(2, 2)
ax = f.add_subplot(111)
sns.pointplot(data=thresholds_long, x='block', y='db', hue='group', errorbar=('ci', 68), 
              palette=colorpalette, hue_order=['SC','EB'], scale=0.6, errwidth=1)
sns.despine()
ax.axhline(y=0, color=".25")
plt.xlabel('Session', fontsize=10)
plt.ylabel('Threshold (db)', fontsize=10)
plt.yticks([0, 5, 10], ['0', '5', '10'])
plt.legend(loc='lower right', title=None)
plt.savefig('thresholds_by_session.pdf', dpi=300, transparent=True, bbox_inches="tight")





import pingouin as pg


x1 = thresholds.loc[thresholds["group"]=="EB"]["AvgAlldb"]
y1 = thresholds.loc[thresholds["group"]=="SC"]["AvgAlldb"]
pg.ttest(x1,y1)


x2 = thresholds.loc[thresholds["group"]=="EB"]["AvgLastdb"]
y2 = thresholds.loc[thresholds["group"]=="SC"]["AvgLastdb"]
pg.ttest(x2,y2)


pg.mixed_anova(data=thresholds_long, dv='db', within='block', subject='sub', between='group')



