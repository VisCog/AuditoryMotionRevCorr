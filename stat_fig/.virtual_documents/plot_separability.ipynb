%matplotlib inline

import numpy as np
import pandas as pd
import seaborn as sns
import matplotlib.pyplot as plt
import pingouin as pg
import os 
import matplotlib
matplotlib.rcParams['pdf.fonttype'] = 42
matplotlib.rcParams['ps.fonttype'] = 42
matplotlib.rcParams['font.family'] = "Arial"





path_remote = os.path.join('~', 'Dropbox', 'WoonJuPark', 'Projects', 'AuditoryMotionRF')
path_datatable = os.path.join(path_remote, 'datatable')
datapath2 = os.path.join(path_datatable, 'Separability_params.csv')
params2 = pd.read_csv(datapath2)
params2.head()


colorpalette = ["seagreen", "rebeccapurple"]


plt.figure(2)
plt.figure(figsize=(1.5,2))
plt.rcParams['font.family'] = "Arial"

plt.axhline(y=0, color=".25")
plt.axhline(y=1, color=".25")
sns.stripplot(x="group", y='Surf-a', data=params2, order=["SC","EB"], alpha=.75, palette=colorpalette,
             edgecolor='white', linewidth=1, size=8.5, marker='o', zorder=1)
sns.pointplot(x="group", y="Surf-a", data=params2, order=["SC","EB"], join=False, color="0", ci=68, 
             scale=2, markers='_', errwidth=1, capsize=0.1)

plt.ylabel('Separability (a)', fontsize=10);
plt.xlabel('');
plt.xticks([0, 1], ['Sighted', 'Early Blind'], fontsize=10, rotation=-30)
plt.yticks([0, 0.5, 1])

sns.despine()

plt.savefig('separability-a.pdf', dpi=300, transparent=True, bbox_inches="tight")


params2EB=params2[params2["group"]=="EB"]
params2SC=params2[params2["group"]=="SC"]


pg.mwu(x=params2EB['Surf-a'], y=params2SC['Surf-a'])





datapath3 = os.path.join(path_datatable, 'ModelComparison.csv')
params3 = pd.read_csv(datapath3)
params3.head()


params3_mean = params3.groupby(['group', 'model']).mean()
params3_sem = params3.groupby(['group', 'model']).sem()
params3_mean


params3EB = params3[params3['group']=='EB']
params3SC = params3[params3['group']=='SC']
params3SC.head()


pg.mixed_anova(dv='crosscorr', within='model', between='group', subject='sub', data=params3)


pg.pairwise_tests(dv='crosscorr', between='group', within='model', subject='sub', data=params3, 
                  padjust='holm', within_first=False)


datapath4 = os.path.join(path_datatable, 'ModelDiff.csv')
params4 = pd.read_csv(datapath4)
params4.head()


plt.figure(4)
plt.figure(figsize=(1.5,2))
plt.rcParams['font.family'] = "Arial"

sns.stripplot(x="group", y="diff", data=params4, order=['SC','EB'],
              palette=colorpalette, alpha=.75, zorder=1, edgecolor='white', linewidth=1, size=8.5, marker='o')
sns.pointplot(x="group", y="diff", data=params4, color="0", order=['SC','EB'], scale=2, markers='_',
              errwidth=1, capsize=0.1, join=False, ci=68)
plt.axhline(y=0, color=".25")

plt.xticks([0, 1], ['Sighted', 'Early Blind'], fontsize=10, rotation=-30)
plt.xlabel('');
plt.yticks([0, 0.005, 0.01])
plt.ylabel('Fit Diff (Sep - Non-Sep)');

sns.despine()
plt.savefig('separability-fitdiff.pdf', dpi=300, transparent=True, bbox_inches="tight")
