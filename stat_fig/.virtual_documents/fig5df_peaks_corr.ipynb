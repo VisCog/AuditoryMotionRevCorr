%matplotlib inline

import numpy as np
import pandas as pd
import seaborn as sns
import matplotlib.pyplot as plt
import pingouin as pg
import os
import matplotlib
matplotlib.rcParams['pdf.fonttype'] = 42
matplotlib.rcParams['ps.fonttype'] = 42
matplotlib.rcParams['font.family'] = "Arial"


# load model params
path_remote = os.path.join('~', 'Dropbox', 'WoonJuPark', 'Projects', 'AuditoryMotionRF')
path_datatable = os.path.join(path_remote, 'datatable')
datapath = os.path.join(path_datatable, 'STModel.csv')

params = pd.read_csv(datapath)
params.head()


# load thresholds
datapath = os.path.join(path_datatable, 'Thresholds.csv')
thresholds = pd.read_csv(datapath)
thresholds.head()


def mag2db( factor ):
    import numpy as np
    mag = 20 * np.log10(factor)
    return mag


thresholds[['AvgAlldb','AvgLastdb']] = mag2db(thresholds[['AvgAll', 'AvgLast']]) - mag2db(0.5)
thresholds.head()


dat = [params, thresholds['AvgAlldb']]
dat = pd.concat(dat, axis=1)
dat.head()





# basic setting
onset = [15, 0.15]
stimonset = [30, 0]
distance = 60
time = 0.8


datSC = dat[dat["group"]=="SC"]
datSC.head()


dat=dat.sort_values('group', ascending=False)


colorpalette = ["seagreen", "rebeccapurple"]


plt.figure(figsize=(7,7))

dotsize = 30
trianglesize = 13

# peak coordinates
plt.subplot(1,4,1)
plt.plot(onset[0], onset[1], 'k^', alpha=1, label='Sig Onset', markerfacecolor='yellow', markersize=trianglesize, zorder=1)
plt.plot(stimonset[0], stimonset[1], 'k^', alpha=1, label='Stim Onset', markerfacecolor='gray', markersize=trianglesize, zorder=1)
sns.scatterplot(data=dat, x='xpeak', y='ypeak', hue='group', alpha=0.9, palette=colorpalette, 
                s=dotsize)
plt.ylim([-0.1, 0.8])
plt.xlim([-35, 35])
plt.ylabel('Time (s)', fontsize=10);
plt.xlabel('Space (deg)', fontsize=10);
plt.xticks([-30,30], fontsize=10)
plt.yticks([0, 0.8], fontsize=10)
plt.gca().invert_yaxis()
plt.legend(title='', loc=3, prop={'size':8})
plt.gca().set_aspect(1.0/plt.gca().get_data_ratio(),adjustable='box')

sns.despine()

plt.savefig('peaks.pdf', dpi=300, transparent=True, bbox_inches="tight")


f, axs = plt.subplots(1,3)
f.set_size_inches(7,1.2)
plt.subplots_adjust(wspace=0.5, hspace=1)

dotsize = 45

# Amp correlation 
plt.subplot(1,3,3)
sns.regplot(data=dat[dat["group"]=="SC"], x="amp", y="AvgAlldb", ci=None, ax=axs[2], scatter=False)
sns.regplot(data=dat[dat["group"]=="EB"], x="amp", y="AvgAlldb", ci=None, ax=axs[2], scatter=False)
sns.scatterplot(data=dat, x='amp', y='AvgAlldb', hue='group', alpha=.75, legend=False, s=dotsize)
plt.ylim([2, 12])
plt.xlim([0, 0.1])
plt.yticks([5, 10], fontsize=10)
plt.xlabel('Gain (a.u.)', fontsize=10)
plt.ylabel('')
sns.set_palette(colorpalette)
axs[2].set_aspect(1.0/axs[2].get_data_ratio(),adjustable='box')

# Distance correlation
plt.subplot(1,3,1)
plt.arrow(x=onset[0], y=3, dx=0, dy=-0.5, width=2, head_length=0.5, head_width=2, facecolor='yellow')
plt.arrow(x=stimonset[0], y=3, dx=0, dy=-0.5, width=2, head_length=0.5, head_width=2, facecolor='gray')
sns.regplot(data=dat[dat["group"]=="SC"], x="xpeak", y="AvgAlldb", ci=None, ax=axs[0], scatter=False)
sns.regplot(data=dat[dat["group"]=="EB"], x="xpeak", y="AvgAlldb", ci=None, ax=axs[0], scatter=False)
sns.scatterplot(data=dat, x='xpeak', y='AvgAlldb', hue='group', alpha=.75, legend=False, s=dotsize)
plt.ylim([2, 12])
plt.xlim([10, 33])
plt.yticks([5, 10], fontsize=10)
plt.xlabel('Space (deg)', fontsize=10)
plt.ylabel('Threshold (db)', fontsize=10)
axs[0].set_aspect(1.0/axs[0].get_data_ratio(),adjustable='box')
sns.set_palette(colorpalette)

# Time correlation
plt.subplot(1,3,2)
plt.arrow(x=onset[1], y=3, dx=0, dy=-0.5, width=0.02, head_length=0.5, head_width=0.02, facecolor='yellow')
plt.arrow(x=stimonset[1], y=3, dx=0, dy=-0.5, width=0.02, head_length=0.5, head_width=0.02, facecolor='gray')
sns.regplot(data=dat[dat["group"]=="SC"], x="ypeak", y="AvgAlldb", ci=None, ax=axs[1], scatter=False)
sns.regplot(data=dat[dat["group"]=="EB"], x="ypeak", y="AvgAlldb", ci=None, ax=axs[1], scatter=False)
sns.scatterplot(data=dat, x='ypeak', y='AvgAlldb', hue='group', alpha=.75, legend=False, s=dotsize)
plt.ylim([2, 12])
plt.xlim([-0.02, 0.2])
plt.yticks([5, 10], fontsize=10)
plt.xticks([0, 0.1, 0.2], fontsize=10)
plt.xlabel('Time (deg)', fontsize=10)
plt.ylabel('')
axs[1].set_aspect(1.0/axs[1].get_data_ratio(),adjustable='box')
sns.set_palette(colorpalette)

sns.despine()

plt.savefig('correlations.pdf', dpi=300, transparent=True, bbox_inches="tight")






