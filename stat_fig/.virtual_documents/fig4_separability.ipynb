%matplotlib inline

import numpy as np
import pandas as pd
import seaborn as sns
import matplotlib.pyplot as plt
import pingouin as pg
import os 
import matplotlib
matplotlib.rcParams['pdf.fonttype'] = 42
matplotlib.rcParams['ps.fonttype'] = 42
matplotlib.rcParams['font.family'] = "Arial"





path_remote = os.path.join('~', 'Dropbox', 'WoonJuPark', 'Projects', 'AuditoryMotionRF')
path_datatable = os.path.join(path_remote, 'datatable')
datapath_a = os.path.join(path_datatable, 'Separability_params.csv')
params_a = pd.read_csv(datapath_a)
params_a.head()


colorpalette = ["seagreen", "rebeccapurple"]


plt.figure(1)
plt.figure(figsize=(1.5,2))
plt.rcParams['font.family'] = "Arial"

plt.axhline(y=0, color=".25")
plt.axhline(y=1, color=".25")
sns.stripplot(x="group", y='Surf-a', data=params_a, order=["SC","EB"], alpha=.75, palette=colorpalette,
             edgecolor='white', linewidth=1, size=8.5, marker='o', zorder=1)
sns.pointplot(x="group", y="Surf-a", data=params_a, order=["SC","EB"], join=False, color="0", ci=68, 
             scale=2, markers='_', errwidth=1, capsize=0.1)

plt.ylabel('Separability (a)', fontsize=10);
plt.xlabel('');
plt.xticks([0, 1], ['Sighted', 'Early Blind'], fontsize=10, rotation=-30)
plt.yticks([0, 0.5, 1])

sns.despine()

plt.savefig('separability-a.pdf', dpi=300, transparent=True, bbox_inches="tight")


params_a_EB=params_a[params_a["group"]=="EB"]
params_a_SC=params_a[params_a["group"]=="SC"]


pg.mwu(x=params_a_EB['Surf-a'], y=params_a_SC['Surf-a'])





datapath_comp = os.path.join(path_datatable, 'ModelComparison.csv')
params_comp = pd.read_csv(datapath_comp)
params_comp.head()


pg.mixed_anova(dv='crosscorr', within='model', between='group', subject='sub', data=params_comp)


pg.pairwise_tests(dv='crosscorr', between='group', within='model', subject='sub', data=params_comp, 
                  padjust='holm', within_first=False)


datapath_diff = os.path.join(path_datatable, 'ModelDiff.csv')
params_diff = pd.read_csv(datapath_diff)
params_diff.head()


plt.figure(2)
plt.figure(figsize=(1.5,2))
plt.rcParams['font.family'] = "Arial"

sns.stripplot(x="group", y="diff", data=params_diff, order=['SC','EB'],
              palette=colorpalette, alpha=.75, zorder=1, edgecolor='white', linewidth=1, size=8.5, marker='o')
sns.pointplot(x="group", y="diff", data=params_diff, color="0", order=['SC','EB'], scale=2, markers='_',
              errwidth=1, capsize=0.1, join=False, ci=68)
plt.axhline(y=0, color=".25")

plt.xticks([0, 1], ['Sighted', 'Early Blind'], fontsize=10, rotation=-30)
plt.xlabel('');
plt.yticks([0, 0.005, 0.01])
plt.ylabel('Fit Diff (Sep - Non-Sep)');

sns.despine()
plt.savefig('separability-fitdiff.pdf', dpi=300, transparent=True, bbox_inches="tight")
