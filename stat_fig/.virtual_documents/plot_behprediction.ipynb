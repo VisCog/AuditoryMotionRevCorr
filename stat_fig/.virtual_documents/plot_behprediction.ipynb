%matplotlib inline

import numpy as np
import pandas as pd
import seaborn as sns
import matplotlib.pyplot as plt
import pingouin as pg
import os 
import matplotlib
matplotlib.rcParams['pdf.fonttype'] = 42
matplotlib.rcParams['ps.fonttype'] = 42
matplotlib.rcParams['font.family'] = "Arial"


path_remote = os.path.join('~', 'Dropbox', 'WoonJuPark', 'Projects', 'AuditoryMotionRF')
path_datatable = os.path.join(path_remote, 'datatable')
datapath = os.path.join(path_datatable, 'BehaviorPrediction.csv')
data = pd.read_csv(datapath)
data.head()


dataEB = data[data['group']=='EB']
dataSC = data[data['group']=='SC']
dataSC.head()





colorpalette=["seagreen", "rebeccapurple"]
mn = 2
mx = 14
points = np.linspace(mn, mx, 100)

plt.figure(figsize=(1.5, 1.5))
plt.gca().plot(points, points, color='k', marker=None, linestyle='-', linewidth=1.0)
sns.regplot(data=dataSC, x='thresh', y='pred', color=colorpalette[0], ci=None, scatter=False)
sns.regplot(data=dataEB, x='thresh', y='pred', color=colorpalette[1], ci=None, scatter=False)
sns.scatterplot(data=data, x='thresh', y='pred', hue='group', alpha=.75, legend=False, s=60, palette=colorpalette, hue_order=['SC', 'EB'])

plt.xlabel('Obs Thresh (dB)');
plt.ylabel('Pred Thresh (dB)');

sns.despine()

plt.savefig('beh_prediction.pdf', dpi=300, transparent=True, bbox_inches="tight")





pg.corr(x=dataEB['thresh'],y=dataEB['pred'])


pg.corr(x=dataSC['thresh'],y=dataSC['pred'])





pg.ttest(x=dataEB['pred'], y=dataSC['pred'])



